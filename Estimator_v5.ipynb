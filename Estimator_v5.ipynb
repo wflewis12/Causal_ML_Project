{
 "cells": [
  {
   "cell_type": "markdown",
   "metadata": {},
   "source": [
    "Importing Packages And Basic Set up"
   ]
  },
  {
   "cell_type": "code",
   "execution_count": 1,
   "metadata": {},
   "outputs": [],
   "source": [
    "#.venv/scripts/activate  ; no source. \n",
    "from matplotlib import pyplot as plt\n",
    "from sklearn.model_selection import train_test_split\n",
    "from sklearn.ensemble import RandomForestClassifier\n",
    "from sklearn.model_selection import KFold, StratifiedKFold, train_test_split\n",
    "from sklearn.metrics import mean_squared_error, log_loss\n",
    "\n",
    "import numpy as np\n",
    "import pandas as pd\n",
    "\n",
    "np.random.seed(42)"
   ]
  },
  {
   "cell_type": "markdown",
   "metadata": {},
   "source": [
    "Importing Datasets"
   ]
  },
  {
   "cell_type": "code",
   "execution_count": 2,
   "metadata": {},
   "outputs": [],
   "source": [
    "# Importing maindata\n",
    "\n",
    "file_path = \"C://Users/miste/Documents/Causal_ML/\"\n",
    "\n",
    "x = pd.read_stata(file_path + \"maindata.dta\", convert_categoricals=False)\n",
    "\n",
    "# Importing laws_csv, cleaning it\n",
    "laws_csv = pd.read_csv(file_path + \"When_Were_Laws.csv\")\n",
    "laws_csv = laws_csv[np.logical_not(np.isnan(laws_csv[\"FIPS\"]))]  # FIPS codes identify states\n",
    "laws_csv = laws_csv.drop(\"State_Name\", axis=1)  # Dropping as useless\n",
    "laws_csv = laws_csv.rename({'FIPS': 'stfips'}, axis=1) \n",
    "\n",
    "# Merging\n",
    "merged = pd.merge(laws_csv, x, on='stfips', how='outer')"
   ]
  },
  {
   "cell_type": "markdown",
   "metadata": {},
   "source": [
    "Cleaning Datasets, only interested in the 1997 states. "
   ]
  },
  {
   "cell_type": "code",
   "execution_count": 3,
   "metadata": {},
   "outputs": [],
   "source": [
    "basic_merged = merged.copy()  # To allow for re-running \n",
    "\n",
    "basic_merged = basic_merged[basic_merged[\"a_age\"] <= 25]  # Can be changed later, but for now useful I think\n",
    "\n",
    "# Dropping states who were treated < 97 (i.e. they always had programs)\n",
    "# This is following Callaway + Sant'anna, as we cannot meaningfully \n",
    "# do any inference using those states. Although we can compare them later as a \n",
    "# robustness check, which may be interesting\n",
    "basic_merged = basic_merged[basic_merged[\"Year_Implemented\"].str.contains(\"always\")==False]  \n",
    "\n",
    "# Making it so that \"never-treated\" states are treated at T = infinity\n",
    "basic_merged = basic_merged.replace(\"never\", \"1000000\") \n",
    "basic_merged[\"Year_Implemented\"] = basic_merged[\"Year_Implemented\"].astype(int)  # converting to int\n",
    "\n",
    "# Indicator for if the individual was treated (i.e. under 19 and in a state who added a law)\n",
    "basic_merged[\"treatment\"] = basic_merged[\"under19\"] # * basic_merged[\"year_indic\"]\n",
    "\n",
    "# Generating list of confounders of interest, these are not necessarily optimal. \n",
    "list_of_confounders = [\"year\", \"stfips\", \"fownu18\", \"faminctm1\", \"a_maritl\", \"female\" , \"fpovcut\", \"povll\"]\n",
    "list_of_confounders += [\"anykids\", \"disability\", \"noemp_insured\"]"
   ]
  },
  {
   "cell_type": "markdown",
   "metadata": {},
   "source": [
    "$\\underline{\\bold{\\text{Estimating causal effect}}}$"
   ]
  },
  {
   "cell_type": "markdown",
   "metadata": {},
   "source": [
    "Subsetting data"
   ]
  },
  {
   "cell_type": "markdown",
   "metadata": {},
   "source": [
    "Fitting Model"
   ]
  },
  {
   "cell_type": "code",
   "execution_count": 4,
   "metadata": {},
   "outputs": [],
   "source": [
    "from sklearn.preprocessing import StandardScaler  \n",
    "def outcome_k_fold_fit_and_predict(make_model, X:pd.DataFrame, y:np.array, A:np.array, n_splits:int, year_of_interest:int):\n",
    "    '''\n",
    "    Implements K fold cross-fitting for the model predicting the outcome Y. \n",
    "    That is, \n",
    "    1. Split data into K folds\n",
    "    2. For each fold j, the model is fit on the other K-1 folds\n",
    "    3. The fitted model is used to make predictions for each set of covariates in fold j\n",
    "    3b. Each set of covariates is fitted for each combination of year x treatment\n",
    "    4. We return a matrix which contains those predictions as columns (each column is one combinatino of year x treatment)\n",
    "    5. We also return vectors which indicate the true year/treatment status for that particular set of covariates\n",
    "    \n",
    "\n",
    "    Args:\n",
    "    model: function that returns sklearn model (that implements fit and either predict_prob or predict)\n",
    "    X: dataframe of variables to adjust for\n",
    "    y: array of outcomes\n",
    "    A: array of treatments\n",
    "    n_splits: number of splits to use\n",
    "    year_of_interest: year that treatment occured\n",
    "    '''\n",
    "    # Setting up prediction vectors\n",
    "    # the 2*i'th column is year `i` with treatment = 0\n",
    "    # the (2*i)+1'th column is year `i` with treatment = 1\n",
    "    # As we predict for 18 years, there are 36 columns. \n",
    "    predictions_matrix = np.empty(shape=(y.shape[0], 36))\n",
    "\n",
    "    # k-folding\n",
    "    kf = StratifiedKFold(n_splits=n_splits, shuffle=True, random_state=42)\n",
    "\n",
    "    # include the treatment as input feature\n",
    "    X_w_treatment = X.copy()\n",
    "    X_w_treatment[\"A\"] = A\n",
    "\n",
    "    # Generating vectors which will contain the true treatment/year combination for each covariate. \n",
    "    year_vec = np.full_like(X_w_treatment[\"year\"], np.nan, dtype=float)\n",
    "    treat_vec = np.full_like(X_w_treatment[\"year\"], np.nan, dtype=float)\n",
    "\n",
    "    # Normalizing years so that year =1 when treatment first occurs. \n",
    "    X_w_treatment[\"year\"] = X_w_treatment[\"year\"] - (year_of_interest - 1)\n",
    "\n",
    "    for train_index, test_index in kf.split(X_w_treatment, y):\n",
    "        X_train = X_w_treatment.loc[train_index]\n",
    "        y_train = y.loc[train_index]\n",
    "        scaler = StandardScaler()\n",
    "        scaler.fit(X_train)\n",
    "        X_train = scaler.transform(X_train)\n",
    "        q = make_model()\n",
    "        q.fit(X_train, y_train)\n",
    "\n",
    "        # This saves the vector of years so we only get the att for the 1997 group\n",
    "        year_vec[test_index] =  X_w_treatment[\"year\"].loc[test_index]\n",
    "\n",
    "        # This saves the vector of treated statuses, as we want to condition on A = 1 (we want ATT, not ATE)\n",
    "        treat_vec[test_index] = A.loc[test_index]\n",
    "\n",
    "        for j in range(1991, 2009):\n",
    "            X0 = X_w_treatment.copy()\n",
    "            X0[\"A\"] = 0  # Setting treatment to 0 \n",
    "            X0[\"year\"] = j - (year_of_interest-1)  # Normalizing year\n",
    "            X0 = scaler.transform(X0)\n",
    "            col_num = 2*(j - 1991)  # Which column the data should go in\n",
    "            predictions_matrix[test_index,col_num] = q.predict_proba(X0[test_index,:])[:, 1]\n",
    "        for j in range(1991,2009):\n",
    "            X1 = X_w_treatment.copy()\n",
    "            X1[\"A\"] = 1  # Setting treatment to 1\n",
    "            X1[\"year\"] = j - (year_of_interest-1)  # Normalizing year\n",
    "            X1 = scaler.transform(X1)\n",
    "            col_num = 2*(j - 1991) + 1  # Which column the data should go in\n",
    "            predictions_matrix[test_index,col_num] = q.predict_proba(X1[test_index,:])[:, 1]\n",
    "\n",
    "    assert np.isnan(predictions_matrix).sum() == 0  # Sanity check that we have no missings\n",
    "    return predictions_matrix, year_vec, treat_vec\n",
    "\n",
    "#from xgboost import XGBoostClassifier\n",
    "from xgboost import XGBClassifier\n",
    "from sklearn.ensemble import ExtraTreesClassifier\n",
    "from sklearn.neural_network import MLPClassifier\n",
    "def make_Q_model():\n",
    "    ''' A function that returns a general ML q model for later use in k-folding'''\n",
    "    #return XGBClassifier()\n",
    "    #works ok: return ExtraTreesClassifier(random_state=42)\n",
    "    #return RandomForestClassifier(random_state=42, n_estimators=100, max_depth=5)\n",
    "    return MLPClassifier(solver='adam', hidden_layer_sizes=(15,), random_state=1, max_iter=500)"
   ]
  },
  {
   "cell_type": "markdown",
   "metadata": {},
   "source": [
    "Estimating the ATT's\n"
   ]
  },
  {
   "cell_type": "code",
   "execution_count": 5,
   "metadata": {},
   "outputs": [],
   "source": [
    "def ATT_event_study(stfips:int, year_of_interest:int, outcome:str):\n",
    "    '''\n",
    "    Estimates ATT(g,t) for the combinations of g,t which we are interested in. \n",
    "\n",
    "    Based on Callaway & Sant'anna, we compute ATT(g,t) over time\n",
    "\n",
    "    We say that ATT(g,t) is the ATT for group g at time `t`\n",
    "    We compare the outcomes at time `t` to a base date, which we refer to as g_d_1\n",
    "    \n",
    "    If time `t` occurs >= treatment_year (i.e. when treatment first occurs), then g_d_1 = treatment_year - 1\n",
    "    Otherwise, we say that g_d_1 = t - 1\n",
    "\n",
    "    For intuition, if t >= treatment_year, we are looking at the DiD comparing outcomes at time `t` to \n",
    "    those which were immediately before treatment. If t < treatment_year, then we are performing a robustness check.\n",
    "    That robustness check involves pretending that treatment occured at time t, and comparing it to the previous period's outcomes. \n",
    "\n",
    "    For each g,t of interest, we compute:\n",
    "\n",
    "    ATT(g,t) = E(G_g/E(G_g) * (m_treat_1(X) - m_treat_0(X) - (m_nev_1(X) - m_nev_0(X))))\n",
    "\n",
    "    m_treat_i(X) = prediction for the outcome for an individual with covariates `X` in year `t` who recieved treatment = `i`\n",
    "    m_nev_i(X)   = prediction for the outcome for an individual with covariates `X` in year `g_d_1` who recieved treatment = `i`\n",
    "\n",
    "    We also compute standard errors, and return the ATT(g,t) + standard errors as two different lists. \n",
    "\n",
    "    stfips: the FIPS code for the state of interest\n",
    "    year_of_interest: the year at which treatment first occurs\n",
    "    outcome: which outcome we are interested in, out of public/private/all insurance.  \n",
    "    '''\n",
    "\n",
    "    mean_list = np.zeros(17)  # Will end up being a list of the average ATT's\n",
    "    ste_list = np.zeros(17)  # Will end up being a list of the standard errors. \n",
    "    state_level = basic_merged[basic_merged[\"stfips\"] == stfips]  # Subset for state of interest\n",
    "\n",
    "    # outcome in  [\"pubonly\", \"insured\", \"privonly\"]\n",
    "    state_level = state_level[list_of_confounders + [\"treatment\", outcome]]  # Subsetting for features of interest\n",
    "\n",
    "    # Drop missings\n",
    "    state_level = state_level.dropna(axis = 0)\n",
    "\n",
    "    # Setting up \n",
    "    state_level = state_level.reset_index(drop=True)\n",
    "    confounders = state_level[list_of_confounders]\n",
    "    treatment = state_level['treatment']\n",
    "    outcome = state_level[outcome]\n",
    "\n",
    "    # Fitting\n",
    "    predictions_matrix, year_vec, treat_vec = outcome_k_fold_fit_and_predict(make_Q_model, \\\n",
    "                                        X=confounders, y=outcome, A=treatment,  n_splits=5, \\\n",
    "                                        year_of_interest=year_of_interest) \n",
    "    # the 2*i'th column is always the untreated vec, and the (2*i)+1 is treated. \n",
    "\n",
    "    weight = (year_vec == 1) * (treat_vec == 1) # We only want the ATT, so we weight appropriately\n",
    "                                                # to only look at the untils treated at t=1\n",
    "    weight = weight / np.mean(weight) # To ensure mean of the weights is 1, weights are >= 0 by construction\n",
    "    \n",
    "    for i in range(1,18): # we look at the ATT for 1992-2008 (cannot look at 1991 as we have no 1990 data)\n",
    "        year = i + 1991 # What actual year we are looking at in the for loop\n",
    "        term_1 = predictions_matrix[:,(2*i)+1]  # m_treat_1 \n",
    "        term_3 = predictions_matrix[:,(2*i)]    # m_nev_1\n",
    "\n",
    "        if year >= year_of_interest: # If we've gotten to the treatment year \n",
    "            term_2 = predictions_matrix[:,(2*(year_of_interest-1991))-1]  # m_treat_0\n",
    "            term_4 = predictions_matrix[:,(2*(year_of_interest-1991))-2]  # m_nev_0\n",
    "        else:  # otherwise we do a short difference. \n",
    "            term_2 = predictions_matrix[:,(2*i)-1]  # m_treat_0\n",
    "            term_4 = predictions_matrix[:,(2*i)-2]  # m_nev_0\n",
    "        final = weight * (term_1 - term_2 - (term_3 - term_4))  \n",
    "        # Multiplying by 100 to convert to %\n",
    "        mean_list[i-1] += np.mean(final) * 100\n",
    "        ste_list[i-1] += np.std(final) * 100 / np.sqrt(term_1.shape[0])\n",
    "    return mean_list, ste_list"
   ]
  },
  {
   "cell_type": "code",
   "execution_count": 6,
   "metadata": {},
   "outputs": [
    {
     "name": "stdout",
     "output_type": "stream",
     "text": [
      "done\n",
      "done\n"
     ]
    }
   ],
   "source": [
    "################################## 1997 ##################################\n",
    "\n",
    "# Copying the dataset for the for loop. \n",
    "sub_merged = basic_merged.copy()\n",
    "\n",
    "treated_year = 1997  # What implemented year we want to look at\n",
    "sub_merged = sub_merged[sub_merged[\"Year_Implemented\"] == treated_year]  # Subsetting to look at 1997\n",
    "\n",
    "overall_mean_list_1997 = np.zeros(17)  # Generating array which will eventually contain the average ATT(g,t) for each year. \n",
    "\n",
    "weight_total = 0\n",
    "for stfips in sub_merged[\"stfips\"].unique():\n",
    "    mean_list, ste_list = ATT_event_study(stfips=stfips, year_of_interest=treated_year, outcome=\"insured\")\n",
    "    \n",
    "    # Adding on the means so we have a mean of means. \n",
    "    # This is a simple average, but in the future I would like to weight it by observations. \n",
    "    weight_generator = sub_merged[sub_merged[\"stfips\"] == stfips]  # I would like to do a weighted average by # of treated units in treatment_year\n",
    "    weight_generator = weight_generator[weight_generator[\"year\"] == treated_year]\n",
    "    for i in range(17):\n",
    "        overall_mean_list_1997[i] += mean_list[i] * weight_generator.shape[0]\n",
    "    weight_total += weight_generator.shape[0]\n",
    "\n",
    "# Taking a simple mean\n",
    "#overall_mean_list_1997 = [x / len(sub_merged[\"stfips\"].unique()) for x in overall_mean_list_1997]\n",
    "\n",
    "#Taking a weighted average \n",
    "overall_mean_list_1997 = [x / weight_total for x in overall_mean_list_1997]\n",
    "print(\"done\")\n",
    "\n",
    "################################## 1998 ##################################\n",
    "# Copying the dataset for the for loop. \n",
    "sub_merged = basic_merged.copy()\n",
    "\n",
    "treated_year = 1998  # What implemented year we want to look at\n",
    "sub_merged = sub_merged[sub_merged[\"Year_Implemented\"] == treated_year]  # Subsetting to look at 1998\n",
    "\n",
    "overall_mean_list_1998 = np.zeros(17)  # Generating array which will eventually contain the average ATT(g,t) for each year. \n",
    "\n",
    "weight_total = 0\n",
    "for stfips in sub_merged[\"stfips\"].unique():\n",
    "    mean_list, ste_list = ATT_event_study(stfips=stfips, year_of_interest=treated_year, outcome=\"insured\")\n",
    "    \n",
    "    # Adding on the means so we have a mean of means. \n",
    "    # This is a simple average, but in the future I would like to weight it by observations. \n",
    "    weight_generator = sub_merged[sub_merged[\"stfips\"] == stfips]  # I would like to do a weighted average by # of treated units in treatment_year\n",
    "    weight_generator = weight_generator[weight_generator[\"year\"] == treated_year]\n",
    "    for i in range(17):\n",
    "        overall_mean_list_1998[i] += mean_list[i] * weight_generator.shape[0]\n",
    "    weight_total += weight_generator.shape[0]\n",
    "\n",
    "# Taking a simple mean\n",
    "overall_mean_list_1998 = [x / weight_total for x in overall_mean_list_1998]\n",
    "print(\"done\")\n",
    "\n",
    "################################## 1999 ##################################\n",
    "# Copying the dataset for the for loop. \n",
    "sub_merged = basic_merged.copy()\n",
    "\n",
    "treated_year = 1999  # What implemented year we want to look at\n",
    "sub_merged = sub_merged[sub_merged[\"Year_Implemented\"] == treated_year]  # Subsetting to look at 1997\n",
    "\n",
    "overall_mean_list_1999 = np.zeros(17)  # Generating array which will eventually contain the average ATT(g,t) for each year. \n",
    "\n",
    "weight_total = 0\n",
    "for stfips in sub_merged[\"stfips\"].unique():\n",
    "    mean_list, ste_list = ATT_event_study(stfips=stfips, year_of_interest=treated_year, outcome=\"insured\")\n",
    "    \n",
    "    # Adding on the means so we have a mean of means. \n",
    "    # This is a simple average, but in the future I would like to weight it by observations. \n",
    "    weight_generator = sub_merged[sub_merged[\"stfips\"] == stfips]  # I would like to do a weighted average by # of treated units in treatment_year\n",
    "    weight_generator = weight_generator[weight_generator[\"year\"] == treated_year]\n",
    "    for i in range(17):\n",
    "        overall_mean_list_1999[i] += mean_list[i] * weight_generator.shape[0]\n",
    "    weight_total += weight_generator.shape[0]\n",
    "\n",
    "# Taking a simple mean\n",
    "overall_mean_list_1999 = [x / weight_total for x in overall_mean_list_1999]"
   ]
  },
  {
   "cell_type": "code",
   "execution_count": 11,
   "metadata": {},
   "outputs": [
    {
     "name": "stdout",
     "output_type": "stream",
     "text": [
      "[0.18924570568332044, 0.18892316492869443, 0.19317981970544523, 0.21155415293113022, 0.20764508839373166, 0.20983964075926242, 0.4157809142847072, 0.6184943697021156, 0.8245369032264649, 1.017812235728904, 1.225728805113335, 1.4002164605773246, 1.5398723256288878, 1.6246641847614118, 1.6466410169974228, 1.5939452756248143, 1.494099565677038]\n"
     ]
    },
    {
     "data": {
      "image/png": "[encoded data removed]",
      "text/plain": [
       "<Figure size 640x480 with 1 Axes>"
      ]
     },
     "metadata": {},
     "output_type": "display_data"
    }
   ],
   "source": [
    "# Setting up x-axis, treatment occurs at t = 1\n",
    "# Plotting data\n",
    "x = np.arange(1992- (1997 - 1), 2009-(1997 - 1), 1) # I missed up length :/\n",
    "plt.plot(x, overall_mean_list_1997, label=\"g = 1997\")\n",
    "x = np.arange(1992- (1998 - 1), 2009-(1998 - 1), 1) # I missed up length :/\n",
    "plt.plot(x, overall_mean_list_1998, label=\"g = 1998\")\n",
    "x = np.arange(1992- (1999 - 1), 2009-(1999 - 1), 1) # I missed up length :/\n",
    "plt.plot(x, overall_mean_list_1999, label=\"g = 1999\")\n",
    "plt.xticks(np.arange(min(x), max(x)+1, 1.0))  # Fixing the ticks. \n",
    "# Line which indicated an ATT(g,t) of 0\n",
    "plt.axhline(y = 0, color = 'k', linestyle = \"dashed\")  \n",
    "\n",
    "# Line which indicates after when treatment occurs. (at t=0)\n",
    "plt.axvline(x=0, color='k', linestyle=\"dashed\")\n",
    "leg = plt.legend(loc='upper center')\n",
    "plt.show()"
   ]
  }
 ],
 "metadata": {
  "kernelspec": {
   "display_name": "Python 3.9.7 ('.venv': venv)",
   "language": "python",
   "name": "python3"
  },
  "language_info": {
   "codemirror_mode": {
    "name": "ipython",
    "version": 3
   },
   "file_extension": ".py",
   "mimetype": "text/x-python",
   "name": "python",
   "nbconvert_exporter": "python",
   "pygments_lexer": "ipython3",
   "version": "3.9.7"
  },
  "orig_nbformat": 4,
  "vscode": {
   "interpreter": {
    "hash": "e1117a3f67b6f9f07c9cd111c1d164c2c78fdaed6c7ec8e557fb0bc2f3980f47"
   }
  }
 },
 "nbformat": 4,
 "nbformat_minor": 2
}
