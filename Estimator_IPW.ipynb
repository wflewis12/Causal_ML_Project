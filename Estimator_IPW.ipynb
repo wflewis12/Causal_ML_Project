{
 "cells": [
  {
   "cell_type": "markdown",
   "metadata": {},
   "source": [
    "Importing Packages And Basic Set up"
   ]
  },
  {
   "cell_type": "code",
   "execution_count": 25,
   "metadata": {},
   "outputs": [],
   "source": [
    "#.venv/scripts/activate  ; no source. \n",
    "from matplotlib import pyplot as plt\n",
    "from sklearn.model_selection import train_test_split\n",
    "from sklearn.ensemble import RandomForestClassifier\n",
    "from sklearn.ensemble import AdaBoostClassifier\n",
    "from sklearn.ensemble import GradientBoostingClassifier\n",
    "from sklearn.linear_model import RidgeClassifier\n",
    "from xgboost import XGBClassifier\n",
    "from sklearn.ensemble import ExtraTreesClassifier\n",
    "from sklearn.neural_network import MLPClassifier\n",
    "from sklearn.model_selection import KFold, StratifiedKFold, train_test_split\n",
    "from sklearn.metrics import mean_squared_error, log_loss\n",
    "from sklearn.preprocessing import StandardScaler  \n",
    "from plotnine import *\n",
    "\n",
    "import numpy as np\n",
    "import pandas as pd\n",
    "\n",
    "np.random.seed(23)"
   ]
  },
  {
   "cell_type": "markdown",
   "metadata": {},
   "source": [
    "Importing Datasets"
   ]
  },
  {
   "cell_type": "code",
   "execution_count": 26,
   "metadata": {},
   "outputs": [],
   "source": [
    "# Importing maindata\n",
    "\n",
    "file_path = \"C://Users/miste/Documents/Causal_ML/\"\n",
    "\n",
    "x = pd.read_stata(file_path + \"maindata.dta\", convert_categoricals=False)\n",
    "\n",
    "# Importing laws_csv, cleaning it\n",
    "laws_csv = pd.read_csv(\"When_Were_Laws.csv\")\n",
    "laws_csv = laws_csv[np.logical_not(np.isnan(laws_csv[\"FIPS\"]))]  # FIPS codes identify states\n",
    "laws_csv = laws_csv.drop(\"State_Name\", axis=1)  # Dropping as useless\n",
    "laws_csv = laws_csv.rename({'FIPS': 'stfips'}, axis=1) \n",
    "\n",
    "# Merging\n",
    "merged = pd.merge(laws_csv, x, on='stfips', how='outer')"
   ]
  },
  {
   "cell_type": "markdown",
   "metadata": {},
   "source": [
    "Cleaning Datasets, only interested in the 1997 states. "
   ]
  },
  {
   "cell_type": "code",
   "execution_count": 27,
   "metadata": {},
   "outputs": [],
   "source": [
    "basic_merged = merged.copy()  # To allow for re-running \n",
    "\n",
    "basic_merged = basic_merged[basic_merged[\"a_age\"] <= 25]  # Can be changed later, but for now useful I think\n",
    "#age_subset = np.logical_and(np.greater_equal(basic_merged[\"a_age\"],18), np.greater_equal(19,basic_merged[\"a_age\"]))\n",
    "# 17 <= age <= 21 (maybe should be like 22)\n",
    "#basic_merged = basic_merged[age_subset]\n",
    "#print(basic_merged.shape)\n",
    "\n",
    "# Dropping states who were treated < 97 (i.e. they always had programs)\n",
    "# This is following Callaway + Sant'anna, as we cannot meaningfully \n",
    "# do any inference using those states. Although we can compare them later as a \n",
    "# robustness check, which may be interesting\n",
    "basic_merged = basic_merged[basic_merged[\"Year_Implemented\"].str.contains(\"always\")==False]  \n",
    "\n",
    "# I also drop the never states, as they may be substantively different from others, although this can be relaxed later.\n",
    "basic_merged = basic_merged.replace(\"never\", \"1000000\") \n",
    "basic_merged[\"Year_Implemented\"] = basic_merged[\"Year_Implemented\"].astype(int)  # converting to intbasic_merged = basic_merged[basic_merged[\"Year_Implemented\"].str.contains(\"never\")==False]  # Only want to look at one for now. \n",
    "\n",
    "# As we are treating >19 as the never-treated group, we set their year implemented as 1000000 >> 1999\n",
    "year_implemented_vector = basic_merged[\"Year_Implemented\"].copy()\n",
    "year_implemented_vector[basic_merged[\"under19\"] == 0] = 1000000\n",
    "basic_merged[\"group\"] = year_implemented_vector  # Equals the year you were first treated. If >=19 then treated at t = infty\n",
    "\n",
    "# Generating list of confounders of interest, these are not necessarily optimal. \n",
    "list_of_confounders = [\"year\", \"fownu18\", \"faminctm1\", \"a_maritl\", \"female\" , \"fpovcut\", \"povll\"]#, \"stfips\"]\n",
    "list_of_confounders += [\"anykids\", \"disability\", \"collgrad\", \"hsgrad\"] # coll + hs are extra for now. "
   ]
  },
  {
   "cell_type": "markdown",
   "metadata": {},
   "source": [
    "$\\underline{\\bold{\\text{Estimating causal effect}}}$"
   ]
  },
  {
   "cell_type": "markdown",
   "metadata": {},
   "source": [
    "Subsetting data"
   ]
  },
  {
   "cell_type": "markdown",
   "metadata": {},
   "source": [
    "Fitting Model"
   ]
  },
  {
   "cell_type": "code",
   "execution_count": 28,
   "metadata": {},
   "outputs": [],
   "source": [
    "def treatment_k_fold_fit_and_predict(make_model, X:pd.DataFrame, A:np.array, n_splits:int, year_of_interest:int):\n",
    "    # k-folding\n",
    "    kf = StratifiedKFold(n_splits=n_splits, shuffle=True, random_state=42)\n",
    "\n",
    "    # group of people \n",
    "    G_g_and_C = np.logical_or(np.equal(A,year_of_interest), np.equal(A,1000000))\n",
    "\n",
    "    # subset for people in G_g or C, then reset index to allow for kfolding\n",
    "    covariates = X.copy()\n",
    "    covariates = covariates.loc[G_g_and_C]\n",
    "    covariates = covariates.reset_index(drop=True)\n",
    "\n",
    "    treatment_status = (A == year_of_interest)\n",
    "    treatment_status = treatment_status.loc[G_g_and_C]\n",
    "    treatment_status = treatment_status.reset_index(drop=True)\n",
    "\n",
    "    g_matrix = np.full_like(treatment_status, np.nan, dtype=float)\n",
    "\n",
    "    # Generating vectors which will contain the true treatment/year combination for each covariate. \n",
    "    # Normalizing years so that year =1 when treatment first occurs. \n",
    "    #covariates.drop(\"year\", axis=1)  # We are interested in the covariates, not the year they were found in. \n",
    "\n",
    "    for train_index, test_index in kf.split(covariates, treatment_status):\n",
    "        X_train = covariates.loc[train_index]\n",
    "        y_train = treatment_status.loc[train_index]\n",
    "        g = make_model()\n",
    "        g.fit(X_train, y_train)\n",
    "        g_matrix[test_index] = g.predict_proba(covariates.loc[test_index])[:, 1]\n",
    "    assert np.isnan(g_matrix).sum() == 0  # Sanity check that we have no missings\n",
    "    print(\"Max p:\" + str(np.max(g_matrix))) # Checking for overlap\n",
    "    from matplotlib.pyplot import hist\n",
    "    hist(g_matrix, density=True)\n",
    "    return g_matrix"
   ]
  },
  {
   "cell_type": "markdown",
   "metadata": {},
   "source": [
    "Define models to Use"
   ]
  },
  {
   "cell_type": "code",
   "execution_count": 29,
   "metadata": {},
   "outputs": [],
   "source": [
    "# Works the best\n",
    "def make_G_model():\n",
    "    return RandomForestClassifier(random_state=42, n_estimators=100, max_depth=2) \n",
    "    #return MLPClassifier(hidden_layer_sizes=(15,),solver=\"adam\")"
   ]
  },
  {
   "cell_type": "markdown",
   "metadata": {},
   "source": [
    "Estimating the ATT's\n"
   ]
  },
  {
   "cell_type": "code",
   "execution_count": 30,
   "metadata": {},
   "outputs": [],
   "source": [
    "def ATT_event_study(year_of_interest:int, response:str, confounder_list:list, dataframe:pd.DataFrame, G_model):\n",
    "    '''\n",
    "    Estimates ATT(g,t) for the combinations of g,t which we are interested in. \n",
    "\n",
    "    Based on Callaway & Sant'anna, we compute ATT(g,t) over time\n",
    "\n",
    "    We say that ATT(g,t) is the ATT for group g at time `t`\n",
    "    We compare the outcomes at time `t` to a base date, which we refer to as g_d_1\n",
    "    \n",
    "    If time `t` occurs >= treatment_year (i.e. when treatment first occurs), then g_d_1 = treatment_year - 1\n",
    "    Otherwise, we say that g_d_1 = t - 1\n",
    "\n",
    "    For intuition, if t >= treatment_year, we are looking at the DiD comparing outcomes at time `t` to \n",
    "    those which were immediately before treatment. If t < treatment_year, then we are performing a robustness check.\n",
    "    That robustness check involves pretending that treatment occured at time t, and comparing it to the previous period's outcomes. \n",
    "\n",
    "    For each g,t of interest, we compute:\n",
    "\n",
    "    ATT(g,t)\n",
    "\n",
    "    We also compute standard errors, and return the ATT(g,t) + standard errors as two different lists. \n",
    "\n",
    "    stfips: the FIPS codes for the states of interest\n",
    "    year_of_interest: the year at which treatment first occurs\n",
    "    response: which outcome we are interested in, out of public/private/all insurance. \n",
    "    confounder_list: list of columns of dataframe to use as confounders\n",
    "    dataframe: dataframe to get data from\n",
    "    model: machine learning ensemble model to use as the Q model\n",
    "    '''\n",
    "    # We don't subset here, as we want to fit on all data. \n",
    "    #state_level = dataframe.loc[dataframe['stfips'].isin(stfips),:] # Subset for states of interest\n",
    "    results_df = {}\n",
    "    state_level = dataframe.copy()\n",
    "    state_level = state_level[confounder_list+ [\"group\", response]]  # Subsetting for features of interest\n",
    "\n",
    "    # Drop missings, only needed for some models, \n",
    "    state_level = state_level.dropna(axis = 0)\n",
    "\n",
    "    # Setting up \n",
    "    state_level = state_level.reset_index(drop=True)\n",
    "    confounders = state_level[list_of_confounders]\n",
    "    treatment = state_level[\"group\"]\n",
    "    outcome = state_level[response]\n",
    "                \n",
    "    G_g_and_C = np.logical_or(np.equal(treatment,year_of_interest), np.equal(treatment,1000000))\n",
    "\n",
    "\n",
    "    year_vec = state_level[\"year\"]\n",
    "    year_vec = year_vec[G_g_and_C]\n",
    "    treat_vec = treatment[G_g_and_C]\n",
    "    outcome = outcome[G_g_and_C]\n",
    "\n",
    "    # the 2*i'th column is always the untreated vec, and the (2*i)+1 is treated. \n",
    "    g_matrix = treatment_k_fold_fit_and_predict(G_model, X=confounders, A=treatment, n_splits=5, \\\n",
    "                                                year_of_interest=year_of_interest)\n",
    "                                                \n",
    "    # Weight on the first term. \n",
    "    # This depends only on g so we can pull it out here\n",
    "    for i in range(1,18): # we look at the ATT for 1992-2008 (cannot look at 1991 as we have no 1990 data)\n",
    "        year = i + 1991 # What actual year we are looking at in the for loop\n",
    "        # Generating term 1:\n",
    "\n",
    "        # Generating term 2:\n",
    "        # This weight equals 1 if the unit appears at time t and is in group g\n",
    "        w_treat_1 = (year_vec == year) * (treat_vec == year_of_interest)  # Equals 1 if in year, and treated at year_of_interest\n",
    "\n",
    "        w_treat_1 = w_treat_1 / np.mean(w_treat_1)\n",
    "\n",
    "        # This weight equals 1 if the unit appears at time g_d_1 and is in group g\n",
    "        if year >= year_of_interest: # If we've gotten to the treatment year\n",
    "            w_treat_0 = (year_vec == year_of_interest - 1) * (treat_vec == year_of_interest)  # Equals 1 if in year, and treated at year_of_interest\n",
    "            w_treat_0 = w_treat_0 / np.mean(w_treat_0)\n",
    "        else:\n",
    "            w_treat_0 = (year_vec == year - 1) * (treat_vec == year_of_interest)  # Equals 1 if in year, and treated at year_of_interest\n",
    "            w_treat_0 = w_treat_0 / np.mean(w_treat_0)\n",
    "\n",
    "        term_1_IPW = (w_treat_1 - w_treat_0) * outcome\n",
    "\n",
    "        \n",
    "        # Generating term 3:\n",
    "        w_nev_1 = (year_vec == year) * (treat_vec >= 2002) * g_matrix / (1 - g_matrix)\n",
    "\n",
    "        w_nev_1 = w_nev_1 / np.mean(w_nev_1)\n",
    "        \n",
    "        if year >= year_of_interest:\n",
    "            w_nev_0 = (year_vec == year_of_interest - 1) * (treat_vec >= 3000) * g_matrix / (1 - g_matrix)\n",
    "            w_nev_0 = w_nev_0 / np.mean(w_nev_0)\n",
    "        else:\n",
    "            w_nev_0 = (year_vec == year - 1) * (treat_vec >= 3000) * g_matrix / (1 - g_matrix)\n",
    "            w_nev_0 = w_nev_0 / np.mean(w_nev_0)\n",
    "        \n",
    "        term_2_IPW = (w_nev_1 - w_nev_0) * outcome\n",
    "\n",
    "        # Multiplying by 100 to convert to %\n",
    "        #mean = (np.mean(term_1) + np.mean(term_2) - np.mean(term_3)) * 100 \n",
    "        final = term_1_IPW - term_2_IPW\n",
    "        mean = np.mean(final) * 100\n",
    "\n",
    "        # Computing standard error from the influence curve (final - np.mean(final) * A)\n",
    "        # This assumes that they are iid, which is unrealistic.  Not sure how to weaken. \n",
    "        #ste = np.sqrt(np.var(term_1) + np.var(term_2) + np.var(term_3))*100 / np.sqrt(term_1.shape[0])\n",
    "        ste = np.std(final) * 100 / np.sqrt(term_1_IPW.shape[0])\n",
    "        results_df.setdefault('year',[]).append(i + 1991)\n",
    "        results_df.setdefault('att',[]).append(mean)\n",
    "        results_df.setdefault('std',[]).append(ste)\n",
    "        results_df.setdefault('q_model',[]).append(\"n.a.\")\n",
    "        results_df.setdefault('g_model',[]).append(G_model.__name__ )\n",
    "        results_df.setdefault('response',[]).append(response)\n",
    "        results_df.setdefault('treat_year',[]).append(year_of_interest)\n",
    "    \n",
    "    results_df = pd.DataFrame(results_df)\n",
    "\n",
    "    return results_df"
   ]
  },
  {
   "cell_type": "code",
   "execution_count": 31,
   "metadata": {},
   "outputs": [
    {
     "name": "stdout",
     "output_type": "stream",
     "text": [
      "Max p:0.5699966722910367\n"
     ]
    },
    {
     "data": {
      "image/png": "[encoded data removed]",
      "text/plain": [
       "<Figure size 640x480 with 1 Axes>"
      ]
     },
     "metadata": {},
     "output_type": "display_data"
    }
   ],
   "source": [
    "# Get all states which implemented programs in that year\n",
    "plot_year = 1998\n",
    "\n",
    "new_year = ATT_event_study(plot_year, \"pubonly\", list_of_confounders, basic_merged, make_G_model)\n",
    "\n",
    "all_years = new_year"
   ]
  },
  {
   "cell_type": "code",
   "execution_count": 32,
   "metadata": {},
   "outputs": [
    {
     "data": {
      "image/png": "[encoded data removed]",
      "text/plain": [
       "<Figure size 640x480 with 1 Axes>"
      ]
     },
     "metadata": {},
     "output_type": "display_data"
    }
   ],
   "source": [
    "# Plotnine code to make plot for pre-treatment effects\n",
    "pre_treat = all_years[(all_years[\"year\"] < plot_year) & (all_years[\"treat_year\"] != 2006)].copy()\n",
    "\n",
    "#pre_treat[\"treat_year\"] = pre_treat[\"treat_year\"].replace(2006, \"Never Implemented\")\n",
    "\n",
    "x = np.arange(1992-plot_year, 0, 1) \n",
    "plt.plot(x, pre_treat[pre_treat[\"treat_year\"]==plot_year][\"att\"], label= \"g = \"+ str(plot_year))\n",
    "mean_list = np.array(pre_treat[pre_treat[\"treat_year\"]==plot_year][\"att\"])\n",
    "ste_list = np.array(pre_treat[pre_treat[\"treat_year\"]==plot_year][\"std\"])\n",
    "\n",
    "for i in range(len(mean_list)):\n",
    "    plt.errorbar(x=i + 1992 - plot_year, y=mean_list[i], yerr=ste_list[i], \\\n",
    "                 color=\"black\", capsize=3, linestyle=\"None\",\\\n",
    "                marker=\"s\", markersize=7, mfc=\"black\", mec=\"black\")\n",
    "#x = np.arange(-6, -1, 1) \n",
    "#plt.plot(x, pre_treat[pre_treat[\"treat_year\"]==1998][\"att\"], label= \"g = 1998\")\n",
    "#x = np.arange(-6, -1, 1) \n",
    "#plt.plot(x, pre_treat[pre_treat[\"treat_year\"]==1999][\"att\"], label= \"g = 1999\")\n",
    "plt.axhline(y = 0, color = 'k', linestyle = \"dashed\")  \n",
    "plt.title(\"Testing Pre-Trends:\" +str(plot_year) )\n",
    "plt.show()"
   ]
  },
  {
   "cell_type": "code",
   "execution_count": 33,
   "metadata": {},
   "outputs": [
    {
     "data": {
      "image/png": "[encoded data removed]",
      "text/plain": [
       "<Figure size 640x480 with 1 Axes>"
      ]
     },
     "metadata": {},
     "output_type": "display_data"
    }
   ],
   "source": [
    "post_treat = all_years[(all_years[\"year\"] >= plot_year) & (all_years[\"treat_year\"] != 2006)].copy()\n",
    "\n",
    "#post_treat[\"treat_year\"] = post_treat[\"treat_year\"].replace(2006, \"Never Implemented\")\n",
    "\n",
    "x = np.arange(1, 2010-plot_year, 1) \n",
    "plt.plot(x, post_treat[post_treat[\"treat_year\"]==plot_year][\"att\"], label= \"g = \" +str(plot_year))\n",
    "\n",
    "mean_list = np.array(post_treat[post_treat[\"treat_year\"]==plot_year][\"att\"])\n",
    "ste_list = np.array(post_treat[post_treat[\"treat_year\"]==plot_year][\"std\"])\n",
    "\n",
    "\n",
    "for i in range(1,2009-plot_year ):\n",
    "    plt.errorbar(x=i, y=mean_list[i-1], yerr=ste_list[i-1], \\\n",
    "                 color=\"black\", capsize=3, linestyle=\"None\",\\\n",
    "                marker=\"s\", markersize=7, mfc=\"black\", mec=\"black\")\n",
    "\n",
    "plt.axhline(y = 0, color = 'k', linestyle = \"dashed\")  \n",
    "plt.title(\"ATT(g,t), g = \" + str(plot_year))\n",
    "plt.show()"
   ]
  }
 ],
 "metadata": {
  "kernelspec": {
   "display_name": "Python 3.9.7 ('.venv': venv)",
   "language": "python",
   "name": "python3"
  },
  "language_info": {
   "codemirror_mode": {
    "name": "ipython",
    "version": 3
   },
   "file_extension": ".py",
   "mimetype": "text/x-python",
   "name": "python",
   "nbconvert_exporter": "python",
   "pygments_lexer": "ipython3",
   "version": "3.9.7"
  },
  "orig_nbformat": 4,
  "vscode": {
   "interpreter": {
    "hash": "e1117a3f67b6f9f07c9cd111c1d164c2c78fdaed6c7ec8e557fb0bc2f3980f47"
   }
  }
 },
 "nbformat": 4,
 "nbformat_minor": 2
}
