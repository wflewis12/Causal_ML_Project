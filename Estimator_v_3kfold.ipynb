{
 "cells": [
  {
   "cell_type": "markdown",
   "metadata": {},
   "source": [
    "Importing Packages And Basic Set up"
   ]
  },
  {
   "cell_type": "code",
   "execution_count": 2,
   "metadata": {},
   "outputs": [],
   "source": [
    "#.venv/scripts/activate  ; no source. \n",
    "from matplotlib import pyplot as plt\n",
    "from sklearn.model_selection import train_test_split\n",
    "from sklearn.ensemble import RandomForestClassifier\n",
    "from sklearn.model_selection import KFold, StratifiedKFold, train_test_split\n",
    "from sklearn.metrics import mean_squared_error, log_loss\n",
    "\n",
    "import numpy as np\n",
    "import pandas as pd\n",
    "from plotnine import *"
   ]
  },
  {
   "cell_type": "markdown",
   "metadata": {},
   "source": [
    "Importing Datasets"
   ]
  },
  {
   "cell_type": "code",
   "execution_count": 3,
   "metadata": {},
   "outputs": [],
   "source": [
    "# Importing maindata\n",
    "file_path = \"C://Users/soren/Downloads/\"\n",
    "x = pd.read_stata(file_path + \"maindata.dta\", convert_categoricals=False)\n",
    "\n",
    "# Importing laws_csv, cleaning it\n",
    "laws_csv = pd.read_csv(\"When_Were_Laws.csv\")\n",
    "laws_csv = laws_csv[np.logical_not(np.isnan(laws_csv[\"FIPS\"]))]  # FIPS codes identify states\n",
    "laws_csv = laws_csv.rename({'FIPS': 'stfips'}, axis=1) \n",
    "\n",
    "# Merging\n",
    "merged = pd.merge(laws_csv, x, on='stfips', how='outer')"
   ]
  },
  {
   "cell_type": "markdown",
   "metadata": {},
   "source": [
    "Cleaning Dataset"
   ]
  },
  {
   "cell_type": "code",
   "execution_count": 4,
   "metadata": {},
   "outputs": [
    {
     "data": {
      "text/plain": [
       "'AL'"
      ]
     },
     "execution_count": 4,
     "metadata": {},
     "output_type": "execute_result"
    }
   ],
   "source": [
    "basic_merged = merged.copy()  # To allow for re-running \n",
    "\n",
    "basic_merged = basic_merged[basic_merged[\"a_age\"] <= 25]  # Can be changed later, but for now useful I think\n",
    "\n",
    "# Dropping states who were treated < 97 (i.e. they always had programs)\n",
    "basic_merged = basic_merged[basic_merged[\"Year_Implemented\"].str.contains(\"always\")==False]  \n",
    "\n",
    "# Making it so that \"never-treated\" states are treated at T = infinity\n",
    "basic_merged = basic_merged.replace(\"never\", \"1000000\") \n",
    "basic_merged[\"Year_Implemented\"] = basic_merged[\"Year_Implemented\"].astype(int)  # converting to int\n",
    "\n",
    "\n",
    "# indicator for if treatment has occured in state i\n",
    "basic_merged[\"year_indic\"] = (basic_merged[\"year\"] >= basic_merged[\"Year_Implemented\"]) \n",
    "\n",
    "\n",
    "# Indicator for if the individual was treated (i.e. under 19 and in a state who added a law)\n",
    "basic_merged[\"treatment\"] = basic_merged[\"under19\"] # * basic_merged[\"year_indic\"]\n",
    "basic_merged.head()\n",
    "basic_merged[\"State_Name\"].values[0]"
   ]
  },
  {
   "cell_type": "markdown",
   "metadata": {},
   "source": [
    "$\\underline{\\bold{\\text{Estimating causal effect}}}$"
   ]
  },
  {
   "cell_type": "code",
   "execution_count": 5,
   "metadata": {},
   "outputs": [],
   "source": [
    "def outcome_k_fold_fit_and_predict(make_model, X:pd.DataFrame, y:np.array, A:np.array, n_splits:int, output_type:str, y1:int, y0:int):\n",
    "    '''\n",
    "    Implements K fold cross-fitting for the model predicting the outcome Y. \n",
    "    That is, \n",
    "    1. Split data into K folds\n",
    "    2. For each fold j, the model is fit on the other K-1 folds\n",
    "    3. The fitted model is used to make predictions for each data point in fold j\n",
    "    Returns two arrays containing the predictions for all units untreated, all units treated  \n",
    "\n",
    "    Args:\n",
    "    model: function that returns sklearn model (that implements fit and either predict_prob or predict)\n",
    "    X: dataframe of variables to adjust for\n",
    "    y: array of outcomes\n",
    "    A: array of treatments\n",
    "    n_splits: number of splits to use\n",
    "    output_type: type of outcome, \"binary\" or \"continuous\"\n",
    "    '''\n",
    "    # Setting up prediction vectors\n",
    "    predictions0_y1 = np.full_like(y, np.nan, dtype=float)\n",
    "    predictions1_y1 = np.full_like(y, np.nan, dtype=float)\n",
    "    predictions0_y0 = np.full_like(y, np.nan, dtype=float)\n",
    "    predictions1_y0 = np.full_like(y, np.nan, dtype=float)\n",
    "\n",
    "    # k-folding\n",
    "    if output_type == 'binary':\n",
    "        kf = StratifiedKFold(n_splits=n_splits, shuffle=True)\n",
    "    elif output_type == 'continuous':\n",
    "        kf = KFold(n_splits=n_splits, shuffle=True)\n",
    "\n",
    "    # include the treatment as input feature\n",
    "    X_w_treatment = X.copy()\n",
    "    X_w_treatment[\"A\"] = A\n",
    "\n",
    "    # for predicting effect under treatment / control status for each data point\n",
    "    X0_y1 = X_w_treatment.copy()\n",
    "    X0_y1[\"A\"] = 0\n",
    "    X0_y1[\"year\"] = y1\n",
    "\n",
    "    X1_y1 = X_w_treatment.copy()\n",
    "    X1_y1[\"A\"] = 1\n",
    "    X1_y1[\"year\"] = y1\n",
    "\n",
    "    X0_y0 = X_w_treatment.copy()\n",
    "    X0_y0[\"A\"] = 0\n",
    "    X0_y0[\"year\"] = y0\n",
    "\n",
    "    X1_y0 = X_w_treatment.copy()\n",
    "    X1_y0[\"A\"] = 1\n",
    "    X1_y0[\"year\"] = y0\n",
    "\n",
    "    year_vec = np.full_like(X_w_treatment[\"year\"], np.nan, dtype=float)\n",
    "    treat_vec = np.full_like(X_w_treatment[\"year\"], np.nan, dtype=float)\n",
    "    for train_index, test_index in kf.split(X_w_treatment, y):\n",
    "        X_train = X_w_treatment.loc[train_index]\n",
    "        y_train = y.loc[train_index]\n",
    "        q = make_model()\n",
    "        q.fit(X_train, y_train)\n",
    "        #print(q.score(X_w_treatment.loc[test_index], y.loc[test_index]))\n",
    "\n",
    "        # This saves the vector of years so we only get the att for the 1997 group\n",
    "        year_vec[test_index] =  X_w_treatment[\"year\"].loc[test_index]\n",
    "\n",
    "        # This saves the vector of treated statuses, as we want to condition on A = 1\n",
    "        treat_vec[test_index] = A.loc[test_index]\n",
    "        if output_type =='binary':\n",
    "            predictions0_y1[test_index] = q.predict_proba(X0_y1.loc[test_index])[:, 1]\n",
    "            predictions1_y1[test_index] = q.predict_proba(X1_y1.loc[test_index])[:, 1]\n",
    "            predictions0_y0[test_index] = q.predict_proba(X0_y0.loc[test_index])[:, 1]\n",
    "            predictions1_y0[test_index] = q.predict_proba(X1_y0.loc[test_index])[:, 1]\n",
    "        elif output_type == 'continuous':\n",
    "            predictions0_y1[test_index] = q.predict(X0_y1.loc[test_index])\n",
    "            predictions1_y1[test_index] = q.predict(X1_y1.loc[test_index])\n",
    "            predictions0_y0[test_index] = q.predict(X0_y0.loc[test_index])\n",
    "            predictions1_y0[test_index] = q.predict(X1_y0.loc[test_index])\n",
    "\n",
    "    assert np.isnan(predictions0_y1).sum() == 0\n",
    "    assert np.isnan(predictions1_y1).sum() == 0\n",
    "    assert np.isnan(predictions0_y0).sum() == 0\n",
    "    assert np.isnan(predictions1_y0).sum() == 0\n",
    "    return predictions1_y1, predictions1_y0, predictions0_y1, predictions0_y0, year_vec, treat_vec"
   ]
  },
  {
   "cell_type": "code",
   "execution_count": 6,
   "metadata": {},
   "outputs": [],
   "source": [
    "# Generating list of confounders of interest, these are not necessarily optimal. \n",
    "list_of_confounders = [\"year\", \"stfips\", \"fownu18\", \"faminctm1\", \"a_maritl\", \"female\" , \"fpovcut\", \"povll\"]\n",
    "list_of_confounders += [\"anykids\", \"disability\", \"noemp_insured\"]"
   ]
  },
  {
   "cell_type": "code",
   "execution_count": 13,
   "metadata": {},
   "outputs": [
    {
     "data": {
      "text/html": [
       "<div>\n",
       "<style scoped>\n",
       "    .dataframe tbody tr th:only-of-type {\n",
       "        vertical-align: middle;\n",
       "    }\n",
       "\n",
       "    .dataframe tbody tr th {\n",
       "        vertical-align: top;\n",
       "    }\n",
       "\n",
       "    .dataframe thead th {\n",
       "        text-align: right;\n",
       "    }\n",
       "</style>\n",
       "<table border=\"1\" class=\"dataframe\">\n",
       "  <thead>\n",
       "    <tr style=\"text-align: right;\">\n",
       "      <th></th>\n",
       "      <th>year</th>\n",
       "      <th>att</th>\n",
       "      <th>std</th>\n",
       "      <th>state</th>\n",
       "      <th>state_name</th>\n",
       "      <th>model</th>\n",
       "      <th>response</th>\n",
       "      <th>treat_year</th>\n",
       "    </tr>\n",
       "  </thead>\n",
       "  <tbody>\n",
       "    <tr>\n",
       "      <th>0</th>\n",
       "      <td>1992</td>\n",
       "      <td>-1.435706</td>\n",
       "      <td>0.473438</td>\n",
       "      <td>16</td>\n",
       "      <td>ID</td>\n",
       "      <td>forest</td>\n",
       "      <td>insured</td>\n",
       "      <td>1997</td>\n",
       "    </tr>\n",
       "    <tr>\n",
       "      <th>1</th>\n",
       "      <td>1993</td>\n",
       "      <td>-1.242578</td>\n",
       "      <td>0.311280</td>\n",
       "      <td>16</td>\n",
       "      <td>ID</td>\n",
       "      <td>forest</td>\n",
       "      <td>insured</td>\n",
       "      <td>1997</td>\n",
       "    </tr>\n",
       "    <tr>\n",
       "      <th>2</th>\n",
       "      <td>1994</td>\n",
       "      <td>0.745286</td>\n",
       "      <td>0.270941</td>\n",
       "      <td>16</td>\n",
       "      <td>ID</td>\n",
       "      <td>forest</td>\n",
       "      <td>insured</td>\n",
       "      <td>1997</td>\n",
       "    </tr>\n",
       "    <tr>\n",
       "      <th>3</th>\n",
       "      <td>1995</td>\n",
       "      <td>0.402632</td>\n",
       "      <td>0.173461</td>\n",
       "      <td>16</td>\n",
       "      <td>ID</td>\n",
       "      <td>forest</td>\n",
       "      <td>insured</td>\n",
       "      <td>1997</td>\n",
       "    </tr>\n",
       "    <tr>\n",
       "      <th>4</th>\n",
       "      <td>1996</td>\n",
       "      <td>0.476052</td>\n",
       "      <td>0.202720</td>\n",
       "      <td>16</td>\n",
       "      <td>ID</td>\n",
       "      <td>forest</td>\n",
       "      <td>insured</td>\n",
       "      <td>1997</td>\n",
       "    </tr>\n",
       "  </tbody>\n",
       "</table>\n",
       "</div>"
      ],
      "text/plain": [
       "   year       att       std  state state_name   model response  treat_year\n",
       "0  1992 -1.435706  0.473438     16         ID  forest  insured        1997\n",
       "1  1993 -1.242578  0.311280     16         ID  forest  insured        1997\n",
       "2  1994  0.745286  0.270941     16         ID  forest  insured        1997\n",
       "3  1995  0.402632  0.173461     16         ID  forest  insured        1997\n",
       "4  1996  0.476052  0.202720     16         ID  forest  insured        1997"
      ]
     },
     "execution_count": 13,
     "metadata": {},
     "output_type": "execute_result"
    }
   ],
   "source": [
    "def get_att(state_fips,confounder_list, treat_year, g_d_1, model_list, dataframe):\n",
    "    '''\n",
    "    state_fips: an integer corresponding to the fips number of the state being tested\n",
    "    confounder_list: a list of the columns names \n",
    "\n",
    "    '''\n",
    "                                                    \n",
    "    results_df = {}\n",
    "\n",
    "    state_level = dataframe[confounder_list + [\"under19\", \"treatment\", \"pubonly\", \"insured\", \"privonly\", \"Year_Implemented\",\"State_Name\"]]\n",
    "    state_level = state_level[state_level[\"stfips\"] == state_fips]\n",
    "    state_level = state_level.dropna(axis = 0)\n",
    "    state_level[\"year\"] = state_level[\"year\"] - g_d_1 # Normalizing for interpretability. \n",
    "                                                # t = 1 is when treatment occurs first\n",
    "\n",
    "    state_name = state_level[\"State_Name\"].values[0]\n",
    "\n",
    "    state_level = state_level.reset_index(drop=True)\n",
    "\n",
    "    for i in range(1992, 2009):  # We compute the ATT for each year\n",
    "\n",
    "        top_year = i - (treat_year - 1)  # Normalizing for interpretability (t = 1 is when treatment occurs)\n",
    "        # For any year prior to treatment (like 1995), it says we should compare that year (t = t') to the prior year (t = t' - 1)\n",
    "        if top_year >= 1:\n",
    "            base_year = 0  # This is the year right before treatment (i.e. g_d_1 from above)\n",
    "        else:\n",
    "            base_year = top_year - 1\n",
    "\n",
    "        for response in [\"insured\"]:\n",
    "            for model in model_list:\n",
    "                \n",
    "                # Setting up \n",
    "                confounders = state_level[confounder_list]\n",
    "                treatment = state_level['treatment']\n",
    "                outcome = state_level[response]\n",
    "\n",
    "                # Fitting\n",
    "                term_1, term_2, term_3, term_4, year_vec, treat_vec = outcome_k_fold_fit_and_predict(model, \\\n",
    "                                                    X=confounders, y=outcome, A=treatment,  n_splits=5, \\\n",
    "                                                    output_type=\"binary\", y1=top_year, y0=base_year)\n",
    "                weight = (year_vec == 1) * (treat_vec == 1) # We only want the ATT, so we weight appropriately\n",
    "                                                            # to only look at the untils treated at t=1\n",
    "                weight = weight / np.mean(weight)\n",
    "                final = weight * (term_1 - term_2 - (term_3 - term_4))\n",
    "\n",
    "                # Multiplying by 100 to convert to %\n",
    "                std = np.std(final) / np.sqrt(term_1.shape[0]) * 1.96 * 100  # the \".shape\" part is just to get the right n\n",
    "                mean = np.mean(final) * 100\n",
    "\n",
    "                # Adding a value to each row for each desired column\n",
    "                results_df.setdefault('year',[]).append(i)\n",
    "                results_df.setdefault('att',[]).append(mean)\n",
    "                results_df.setdefault('std',[]).append(std)\n",
    "                results_df.setdefault('state',[]).append(state_fips)\n",
    "                results_df.setdefault('state_name',[]).append(state_name)\n",
    "                results_df.setdefault('model',[]).append(model.__name__ )\n",
    "                results_df.setdefault('response',[]).append(response)\n",
    "                results_df.setdefault('treat_year',[]).append(treat_year)\n",
    "\n",
    "    results_df = pd.DataFrame(results_df)\n",
    "\n",
    "    return results_df\n",
    "\n",
    "# Estimating the att for one state\n",
    "\n",
    "def forest():\n",
    "    ''' A function that returns a general ML q model for later use in k-folding'''\n",
    "    return RandomForestClassifier(max_depth=10, n_estimators=1000)\n",
    "\n",
    "models_to_use = [forest]\n",
    "simple_att = get_att(16, list_of_confounders,1997,1996, models_to_use, basic_merged)\n",
    "simple_att.head()"
   ]
  },
  {
   "cell_type": "code",
   "execution_count": 29,
   "metadata": {},
   "outputs": [
    {
     "data": {
      "image/png": "[encoded data removed]",
      "text/plain": [
       "<Figure size 640x480 with 1 Axes>"
      ]
     },
     "metadata": {},
     "output_type": "display_data"
    },
    {
     "data": {
      "text/plain": [
       "<ggplot: (110528469664)>"
      ]
     },
     "execution_count": 29,
     "metadata": {},
     "output_type": "execute_result"
    }
   ],
   "source": [
    "simple_att['att-error'] = simple_att['att'] - simple_att['std']\n",
    "simple_att['att+error'] = simple_att['att'] + simple_att['std']\n",
    "ggplot(simple_att, aes(x='year', y='att', color = 'state_name')) + \\\n",
    "geom_point() + \\\n",
    "geom_errorbar(aes(ymin = 'att-error', ymax = 'att+error')) + \\\n",
    "geom_line() + \\\n",
    "geom_vline(aes(xintercept = 'treat_year', color = \"state_name\"))\n"
   ]
  },
  {
   "cell_type": "code",
   "execution_count": null,
   "metadata": {},
   "outputs": [],
   "source": [
    "# Testing which models perform best for Idaho\n",
    "#models_to_use = [forest, boost, ]\n",
    "#get_att(16, list_of_confounders,1997,1996, models_to_use, basic_merged)"
   ]
  },
  {
   "cell_type": "code",
   "execution_count": 27,
   "metadata": {},
   "outputs": [
    {
     "data": {
      "text/html": [
       "<div>\n",
       "<style scoped>\n",
       "    .dataframe tbody tr th:only-of-type {\n",
       "        vertical-align: middle;\n",
       "    }\n",
       "\n",
       "    .dataframe tbody tr th {\n",
       "        vertical-align: top;\n",
       "    }\n",
       "\n",
       "    .dataframe thead th {\n",
       "        text-align: right;\n",
       "    }\n",
       "</style>\n",
       "<table border=\"1\" class=\"dataframe\">\n",
       "  <thead>\n",
       "    <tr style=\"text-align: right;\">\n",
       "      <th></th>\n",
       "      <th>year</th>\n",
       "      <th>att</th>\n",
       "      <th>std</th>\n",
       "      <th>state</th>\n",
       "      <th>state_name</th>\n",
       "      <th>model</th>\n",
       "      <th>response</th>\n",
       "      <th>treat_year</th>\n",
       "    </tr>\n",
       "  </thead>\n",
       "  <tbody>\n",
       "    <tr>\n",
       "      <th>0</th>\n",
       "      <td>1992</td>\n",
       "      <td>-1.098580</td>\n",
       "      <td>0.443762</td>\n",
       "      <td>9</td>\n",
       "      <td>CT</td>\n",
       "      <td>forest</td>\n",
       "      <td>insured</td>\n",
       "      <td>1997</td>\n",
       "    </tr>\n",
       "    <tr>\n",
       "      <th>1</th>\n",
       "      <td>1993</td>\n",
       "      <td>0.457006</td>\n",
       "      <td>0.463045</td>\n",
       "      <td>9</td>\n",
       "      <td>CT</td>\n",
       "      <td>forest</td>\n",
       "      <td>insured</td>\n",
       "      <td>1997</td>\n",
       "    </tr>\n",
       "    <tr>\n",
       "      <th>2</th>\n",
       "      <td>1994</td>\n",
       "      <td>0.831786</td>\n",
       "      <td>0.476206</td>\n",
       "      <td>9</td>\n",
       "      <td>CT</td>\n",
       "      <td>forest</td>\n",
       "      <td>insured</td>\n",
       "      <td>1997</td>\n",
       "    </tr>\n",
       "    <tr>\n",
       "      <th>3</th>\n",
       "      <td>1995</td>\n",
       "      <td>0.533048</td>\n",
       "      <td>0.334648</td>\n",
       "      <td>9</td>\n",
       "      <td>CT</td>\n",
       "      <td>forest</td>\n",
       "      <td>insured</td>\n",
       "      <td>1997</td>\n",
       "    </tr>\n",
       "    <tr>\n",
       "      <th>4</th>\n",
       "      <td>1996</td>\n",
       "      <td>0.373961</td>\n",
       "      <td>0.310168</td>\n",
       "      <td>9</td>\n",
       "      <td>CT</td>\n",
       "      <td>forest</td>\n",
       "      <td>insured</td>\n",
       "      <td>1997</td>\n",
       "    </tr>\n",
       "  </tbody>\n",
       "</table>\n",
       "</div>"
      ],
      "text/plain": [
       "   year       att       std  state state_name   model response  treat_year\n",
       "0  1992 -1.098580  0.443762      9         CT  forest  insured        1997\n",
       "1  1993  0.457006  0.463045      9         CT  forest  insured        1997\n",
       "2  1994  0.831786  0.476206      9         CT  forest  insured        1997\n",
       "3  1995  0.533048  0.334648      9         CT  forest  insured        1997\n",
       "4  1996  0.373961  0.310168      9         CT  forest  insured        1997"
      ]
     },
     "execution_count": 27,
     "metadata": {},
     "output_type": "execute_result"
    }
   ],
   "source": [
    "# Evaluate the ATT's for all the states which implemented programs after 1997\n",
    "\n",
    "# Get all years (other than never) that states implemented programs\n",
    "law_years = np.sort(basic_merged['Year_Implemented'].unique())[:-1]\n",
    "\n",
    "all_state_df = pd.DataFrame()\n",
    "\n",
    "for year in law_years:\n",
    "    # Get all states which implemented programs in that year\n",
    "    states_in_year = basic_merged[basic_merged['Year_Implemented'] == year][\"stfips\"].unique()\n",
    "\n",
    "    # Only do the analysis for the first state in each year (so the code runs within 5 min)\n",
    "    for state in [states_in_year[0]]:\n",
    "\n",
    "        new_state = get_att(int(state), list_of_confounders,year,year-1, models_to_use, basic_merged)\n",
    "        \n",
    "        all_state_df = pd.concat([all_state_df, new_state], ignore_index=True)\n",
    "\n",
    "all_state_df.head()"
   ]
  },
  {
   "cell_type": "code",
   "execution_count": 34,
   "metadata": {},
   "outputs": [
    {
     "data": {
      "image/png": "[encoded data removed]",
      "text/plain": [
       "<Figure size 640x480 with 1 Axes>"
      ]
     },
     "metadata": {},
     "output_type": "display_data"
    },
    {
     "data": {
      "text/plain": [
       "<ggplot: (110527852337)>"
      ]
     },
     "execution_count": 34,
     "metadata": {},
     "output_type": "execute_result"
    }
   ],
   "source": [
    "all_state_df['att-error'] = all_state_df['att'] - all_state_df['std']\n",
    "all_state_df['att+error'] = all_state_df['att'] + all_state_df['std']\n",
    "ggplot(all_state_df, aes(x='year', y='att', color = 'state_name', group='state_name')) + \\\n",
    "geom_point() + \\\n",
    "geom_line() + \\\n",
    "geom_vline(aes(xintercept = 'treat_year', color = \"state_name\"))\n",
    "#geom_errorbar(aes(ymin = 'att-error', ymax = 'att+error')) + \\"
   ]
  },
  {
   "cell_type": "code",
   "execution_count": 15,
   "metadata": {},
   "outputs": [
    {
     "data": {
      "text/plain": [
       "array([ 1.,  5.,  6.,  8., 11., 12., 17., 19., 21., 22., 24., 26., 27.,\n",
       "       28., 29., 31., 32., 33., 34., 37., 38., 39., 46., 48., 49.])"
      ]
     },
     "execution_count": 15,
     "metadata": {},
     "output_type": "execute_result"
    }
   ],
   "source": [
    "# Checking parallel trends by doing the same analysis pretending that the treatment\n",
    "# was performed 1 year after it actually was\n",
    "law_years = np.sort(basic_merged['Year_Implemented'].unique())[:-1]\n",
    "\n",
    "all_state_df = pd.DataFrame()\n",
    "\n",
    "for year in law_years:\n",
    "    \n",
    "    states_in_year = basic_merged[basic_merged['Year_Implemented'] == year][\"stfips\"].unique()\n",
    "\n",
    "    for state in [states_in_year[0]]:\n",
    "\n",
    "        new_state = get_att(state, list_of_confounders,year+1,year, models_to_use, basic_merged)\n",
    "        \n",
    "        all_state_df = pd.concat([all_state_df, new_state], ignore_index=True)\n",
    "\n",
    "all_state_df['att-error'] = all_state_df['att'] - all_state_df['std']\n",
    "all_state_df['att+error'] = all_state_df['att'] + all_state_df['std']\n",
    "ggplot(all_state_df, aes(x='year', y='att', color = 'state')) + \\\n",
    "geom_point() + \\\n",
    "geom_errorbar(aes(ymin = 'att-error', ymax = 'att+error'))"
   ]
  },
  {
   "cell_type": "code",
   "execution_count": null,
   "metadata": {},
   "outputs": [],
   "source": [
    "# Doing a placebo analysis to see if states which never implemented still show casual effect"
   ]
  },
  {
   "cell_type": "code",
   "execution_count": null,
   "metadata": {},
   "outputs": [],
   "source": []
  },
  {
   "cell_type": "code",
   "execution_count": null,
   "metadata": {},
   "outputs": [],
   "source": []
  }
 ],
 "metadata": {
  "kernelspec": {
   "display_name": "Python 3.9.14 ('Causality')",
   "language": "python",
   "name": "python3"
  },
  "language_info": {
   "codemirror_mode": {
    "name": "ipython",
    "version": 3
   },
   "file_extension": ".py",
   "mimetype": "text/x-python",
   "name": "python",
   "nbconvert_exporter": "python",
   "pygments_lexer": "ipython3",
   "version": "3.9.14"
  },
  "orig_nbformat": 4,
  "vscode": {
   "interpreter": {
    "hash": "960d2775473cb3d065e28c47b6bd81ca92f30da6618703e462b5ce909118ad7d"
   }
  }
 },
 "nbformat": 4,
 "nbformat_minor": 2
}
