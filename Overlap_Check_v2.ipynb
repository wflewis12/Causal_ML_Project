{
 "cells": [
  {
   "cell_type": "code",
   "execution_count": 23,
   "metadata": {},
   "outputs": [],
   "source": [
    "import warnings\n",
    "warnings.filterwarnings(\"ignore\", category=DeprecationWarning) "
   ]
  },
  {
   "cell_type": "code",
   "execution_count": 24,
   "metadata": {},
   "outputs": [],
   "source": [
    "import numpy as np\n",
    "import pandas as pd\n",
    "import scipy as sp\n",
    "from sklearn.ensemble import RandomForestClassifier, RandomForestRegressor\n",
    "from sklearn.linear_model import LinearRegression\n",
    "from sklearn.model_selection import KFold, StratifiedKFold, train_test_split\n",
    "from sklearn.metrics import mean_squared_error, log_loss\n",
    "import sklearn\n",
    "import os\n",
    "from matplotlib.pyplot import hist"
   ]
  },
  {
   "cell_type": "code",
   "execution_count": 25,
   "metadata": {},
   "outputs": [],
   "source": [
    "RANDOM_SEED=42\n",
    "np.random.seed(RANDOM_SEED)"
   ]
  },
  {
   "cell_type": "code",
   "execution_count": 26,
   "metadata": {},
   "outputs": [],
   "source": [
    "x = pd.read_stata(\"maindata.dta\", convert_categoricals=False)\n",
    "laws_csv = pd.read_csv(\"When_Were_Laws.csv\")\n",
    "laws_csv = laws_csv[np.logical_not(np.isnan(laws_csv[\"FIPS\"]))]  # FIPS codes identify states\n",
    "laws_csv = laws_csv.drop(\"State_Name\", axis=1)  # Dropping as useless\n",
    "laws_csv = laws_csv.rename({'FIPS': 'stfips'}, axis=1) \n",
    "\n",
    "# Merging\n",
    "merged = pd.merge(laws_csv, x, on='stfips', how='outer')"
   ]
  },
  {
   "cell_type": "code",
   "execution_count": 43,
   "metadata": {},
   "outputs": [],
   "source": [
    "basic_merged = merged.copy()  # To allow for re-running \n",
    "\n",
    "basic_merged = basic_merged[basic_merged[\"a_age\"] <= 25]  # Can be changed later, but for now useful I think\n",
    "#age_subset = np.logical_and(np.greater_equal(basic_merged[\"a_age\"],18), np.greater_equal(19,basic_merged[\"a_age\"]))\n",
    "# 17 <= age <= 21 (maybe should be like 22)\n",
    "#basic_merged = basic_merged[age_subset]\n",
    "#print(basic_merged.shape)\n",
    "\n",
    "# Dropping states who were treated < 97 (i.e. they always had programs)\n",
    "# This is following Callaway + Sant'anna, as we cannot meaningfully \n",
    "# do any inference using those states. Although we can compare them later as a \n",
    "# robustness check, which may be interesting\n",
    "basic_merged = basic_merged[basic_merged[\"Year_Implemented\"].str.contains(\"always\")==False]  \n",
    "\n",
    "# I also drop the never states, as they may be substantively different from others, although this can be relaxed later.\n",
    "basic_merged = basic_merged.replace(\"never\", \"1000000\") \n",
    "basic_merged[\"Year_Implemented\"] = basic_merged[\"Year_Implemented\"].astype(int)  # converting to intbasic_merged = basic_merged[basic_merged[\"Year_Implemented\"].str.contains(\"never\")==False]  # Only want to look at one for now. \n",
    "\n",
    "# As we are treating >19 as the never-treated group, we set their year implemented as 1000000 >> 1999\n",
    "year_implemented_vector = basic_merged[\"Year_Implemented\"].copy()\n",
    "year_implemented_vector[basic_merged[\"under19\"] == 0] = 1000000\n",
    "basic_merged[\"group\"] = year_implemented_vector  # Equals the year you were first treated. If >=19 then treated at t = infty\n",
    "\n",
    "# Generating list of confounders of interest, these are not necessarily optimal. \n",
    "list_of_confounders = [\"fownu18\", \"faminctm1\", \"a_maritl\", \"female\" , \"fpovcut\", \"povll\"]#, \"stfips\"]\n",
    "list_of_confounders += [\"anykids\", \"disability\", \"collgrad\", \"hsgrad\"] # coll + hs are extra for now. "
   ]
  },
  {
   "cell_type": "code",
   "execution_count": 6,
   "metadata": {},
   "outputs": [],
   "source": [
    "def make_g_model():\n",
    "  return RandomForestClassifier(n_estimators=100, max_depth=2)"
   ]
  },
  {
   "cell_type": "code",
   "execution_count": 42,
   "metadata": {},
   "outputs": [],
   "source": [
    "def treatment_k_fold_fit_and_predict(make_model, X:pd.DataFrame, A:np.array, n_splits:int):\n",
    "    \"\"\"\n",
    "    Implements K fold cross-fitting for the model predicting the treatment A. \n",
    "    That is, \n",
    "    1. Split data into K folds\n",
    "    2. For each fold j, the model is fit on the other K-1 folds\n",
    "    3. The fitted model is used to make predictions for each data point in fold j\n",
    "    Returns an array containing the predictions  \n",
    "\n",
    "    Args:\n",
    "    model: function that returns sklearn model (which implements fit and predict_prob)\n",
    "    X: dataframe of variables to adjust for\n",
    "    A: array of treatments\n",
    "    n_splits: number of splits to use\n",
    "    \"\"\"\n",
    "    predictions = np.full_like(A, np.nan, dtype=float)\n",
    "    kf = StratifiedKFold(n_splits=n_splits, shuffle=True, random_state=RANDOM_SEED)\n",
    "    \n",
    "    for train_index, test_index in kf.split(X, A):\n",
    "      X_train = X.loc[train_index]\n",
    "      A_train = A.loc[train_index]\n",
    "      g = make_model()\n",
    "      g.fit(X_train, A_train)\n",
    "\n",
    "      # get predictions for split\n",
    "      predictions[test_index] = g.predict_proba(X.loc[test_index])[:, 1]\n",
    "\n",
    "    assert np.isnan(predictions).sum() == 0\n",
    "    return predictions"
   ]
  },
  {
   "cell_type": "code",
   "execution_count": 64,
   "metadata": {},
   "outputs": [],
   "source": [
    "#overlap and g scores are calculated as the probabiliy that the indiviual is treated (under 19) in treated year given\n",
    "#that you were either in that state in 1997 or never treated at all (over age of 19)\n",
    "def calculate_g(treated_year):\n",
    "    sub_merged = basic_merged.copy()\n",
    "    sub_merged = sub_merged[(sub_merged[\"group\"] == treated_year) | (sub_merged[\"group\"] == 1000000)]\n",
    "    \n",
    "    treatment_bin = {treated_year: 1, 1000000: 0}\n",
    "    sub_merged.group = [treatment_bin[item] for item in sub_merged.group]\n",
    "    sub_merged = sub_merged.reset_index()\n",
    "    \n",
    "    treatment = sub_merged[\"group\"]\n",
    "    confounders = sub_merged[list_of_confounders]\n",
    "    \n",
    "    g = treatment_k_fold_fit_and_predict(make_g_model, X=confounders, A=treatment, n_splits=10)\n",
    "    \n",
    "    return g\n",
    "    "
   ]
  },
  {
   "cell_type": "code",
   "execution_count": 65,
   "metadata": {},
   "outputs": [
    {
     "data": {
      "text/plain": [
       "(array([6.27600808, 9.79278123, 5.80357876, 5.30612178, 3.62707546,\n",
       "        0.17596767, 0.46933312, 0.49397375, 0.93763416, 2.68324889]),\n",
       " array([0.0237308 , 0.05184776, 0.07996472, 0.10808168, 0.13619864,\n",
       "        0.1643156 , 0.19243256, 0.22054952, 0.24866648, 0.27678344,\n",
       "        0.3049004 ]),\n",
       " <a list of 10 Patch objects>)"
      ]
     },
     "execution_count": 65,
     "metadata": {},
     "output_type": "execute_result"
    },
    {
     "data": {
      "image/png": "[encoded data removed]",
      "text/plain": [
       "<Figure size 432x288 with 1 Axes>"
      ]
     },
     "metadata": {
      "needs_background": "light"
     },
     "output_type": "display_data"
    }
   ],
   "source": [
    "g1 = calculate_g(1997)\n",
    "hist(g1, density=True)"
   ]
  },
  {
   "cell_type": "code",
   "execution_count": 66,
   "metadata": {},
   "outputs": [
    {
     "data": {
      "text/plain": [
       "(array([1.05398117, 2.56193093, 2.42692315, 2.0741609 , 1.33928902,\n",
       "        1.41248422, 0.81425328, 0.35211889, 0.71161174, 6.4405836 ]),\n",
       " array([0.07658112, 0.12869883, 0.18081654, 0.23293425, 0.28505195,\n",
       "        0.33716966, 0.38928737, 0.44140507, 0.49352278, 0.54564049,\n",
       "        0.59775819]),\n",
       " <a list of 10 Patch objects>)"
      ]
     },
     "execution_count": 66,
     "metadata": {},
     "output_type": "execute_result"
    },
    {
     "data": {
      "image/png": "[encoded data removed]",
      "text/plain": [
       "<Figure size 432x288 with 1 Axes>"
      ]
     },
     "metadata": {
      "needs_background": "light"
     },
     "output_type": "display_data"
    }
   ],
   "source": [
    "g2 = calculate_g(1998)\n",
    "hist(g2, density=True)"
   ]
  },
  {
   "cell_type": "code",
   "execution_count": 67,
   "metadata": {},
   "outputs": [
    {
     "data": {
      "text/plain": [
       "(array([3.96601886, 6.57517378, 4.14216266, 2.86392725, 2.72555695,\n",
       "        0.97674323, 1.19344384, 2.55299169, 2.00169737, 2.12396423]),\n",
       " array([0.02803978, 0.06237846, 0.09671714, 0.13105582, 0.1653945 ,\n",
       "        0.19973318, 0.23407185, 0.26841053, 0.30274921, 0.33708789,\n",
       "        0.37142657]),\n",
       " <a list of 10 Patch objects>)"
      ]
     },
     "execution_count": 67,
     "metadata": {},
     "output_type": "execute_result"
    },
    {
     "data": {
      "image/png": "[encoded data removed]",
      "text/plain": [
       "<Figure size 432x288 with 1 Axes>"
      ]
     },
     "metadata": {
      "needs_background": "light"
     },
     "output_type": "display_data"
    }
   ],
   "source": [
    "g3 = calculate_g(1999)\n",
    "hist(g3, density=True)"
   ]
  },
  {
   "cell_type": "code",
   "execution_count": null,
   "metadata": {},
   "outputs": [],
   "source": [
    "def dr_treatment_k_fold_fit_and_predict(make_model, X:pd.DataFrame, A:np.array, n_splits:int, year_of_interest:int):\n",
    "    # k-folding\n",
    "    kf = StratifiedKFold(n_splits=n_splits, shuffle=True, random_state=42)\n",
    "\n",
    "    # group of people \n",
    "    G_g_and_C = np.logical_or(np.equal(A,year_of_interest), np.equal(A,1000000))\n",
    "\n",
    "    # subset for people in G_g or C, then reset index to allow for kfolding\n",
    "    covariates = X.copy()\n",
    "    covariates = covariates.loc[G_g_and_C]\n",
    "    covariates = covariates.reset_index(drop=True)\n",
    "\n",
    "    treatment_status = (A == year_of_interest)\n",
    "    treatment_status = treatment_status.loc[G_g_and_C]\n",
    "    treatment_status = treatment_status.reset_index(drop=True)\n",
    "\n",
    "    g_matrix = np.full_like(treatment_status, np.nan, dtype=float)\n",
    "\n",
    "    # Generating vectors which will contain the true treatment/year combination for each covariate. \n",
    "    # Normalizing years so that year =1 when treatment first occurs. \n",
    "    #covariates.drop(\"year\", axis=1)  # We are interested in the covariates, not the year they were found in. \n",
    "\n",
    "    for train_index, test_index in kf.split(covariates, treatment_status):\n",
    "        X_train = covariates.loc[train_index]\n",
    "        y_train = treatment_status.loc[train_index]\n",
    "        g = make_model()\n",
    "        g.fit(X_train, y_train)\n",
    "        g_matrix[test_index] = g.predict_proba(covariates.loc[test_index])[:, 1]\n",
    "    assert np.isnan(g_matrix).sum() == 0  # Sanity check that we have no missings\n",
    "    print(\"Max p:\" + str(np.max(g_matrix))) # Checking for overlap\n",
    "    from matplotlib.pyplot import hist\n",
    "    hist(g_matrix, density=True)\n",
    "    return g_matrix"
   ]
  },
  {
   "cell_type": "code",
   "execution_count": 83,
   "metadata": {},
   "outputs": [],
   "source": [
    "def fit_g(treated_year, g_model):\n",
    "    sub_merged = basic_merged.copy()\n",
    "    sub_merged = sub_merged[(sub_merged[\"group\"] == treated_year) | (sub_merged[\"group\"] == 1000000)]\n",
    "    \n",
    "    treatment_bin = {treated_year: 1, 1000000: 0}\n",
    "    sub_merged.group = [treatment_bin[item] for item in sub_merged.group]\n",
    "    sub_merged = sub_merged.reset_index()\n",
    "    \n",
    "    treatment = sub_merged[\"group\"]\n",
    "    confounders = sub_merged[list_of_confounders]\n",
    "    \n",
    "    x_train, x_test, a_train, a_test = train_test_split(confounders, treatment, test_size=0.2)\n",
    "    g_model.fit(x_train, a_train)\n",
    "    a_pred = g_model.predict_proba(x_test)[:,1]\n",
    "    \n",
    "    test_ce=log_loss(a_test, a_pred)\n",
    "    score = g_model.score(x_test,a_test)\n",
    "    \n",
    "    return test_ce, score"
   ]
  },
  {
   "cell_type": "code",
   "execution_count": 105,
   "metadata": {},
   "outputs": [],
   "source": [
    "from sklearn.neighbors import KNeighborsClassifier\n",
    "from sklearn import linear_model\n",
    "from sklearn.ensemble import ExtraTreesClassifier\n",
    "from sklearn.neural_network import MLPClassifier\n",
    "\n",
    "Rf = RandomForestClassifier(n_estimators=100, max_depth=10)\n",
    "KNN = KNeighborsClassifier()\n",
    "LogReg = linear_model.LogisticRegression(multi_class='ovr', solver='liblinear')\n",
    "XGBoost = sklearn.ensemble.GradientBoostingClassifier()\n",
    "\n",
    "models = [Rf, KNN, LogReg, XGBoost]"
   ]
  },
  {
   "cell_type": "code",
   "execution_count": 109,
   "metadata": {},
   "outputs": [],
   "source": [
    "def fit_year(treated_year, models):\n",
    "    fit_stat = pd.DataFrame()\n",
    "    model_lst = [\"Rf\", \"KNN\", \"LogReg\", \"XGBoost\"]\n",
    "    g_ce = []\n",
    "    score = []\n",
    "\n",
    "    for model in models:\n",
    "        x, y = fit_g(treated_year, model)\n",
    "        g_ce.append(x)\n",
    "        score.append(y)\n",
    "\n",
    "    fit_stat[\"model\"] = model_lst\n",
    "    fit_stat[\"g_ce\"] = g_ce\n",
    "    fit_stat[\"score\"] = score\n",
    "\n",
    "    return fit_stat"
   ]
  },
  {
   "cell_type": "code",
   "execution_count": 110,
   "metadata": {},
   "outputs": [
    {
     "data": {
      "text/html": [
       "<div>\n",
       "<style scoped>\n",
       "    .dataframe tbody tr th:only-of-type {\n",
       "        vertical-align: middle;\n",
       "    }\n",
       "\n",
       "    .dataframe tbody tr th {\n",
       "        vertical-align: top;\n",
       "    }\n",
       "\n",
       "    .dataframe thead th {\n",
       "        text-align: right;\n",
       "    }\n",
       "</style>\n",
       "<table border=\"1\" class=\"dataframe\">\n",
       "  <thead>\n",
       "    <tr style=\"text-align: right;\">\n",
       "      <th></th>\n",
       "      <th>model</th>\n",
       "      <th>g_ce</th>\n",
       "      <th>score</th>\n",
       "    </tr>\n",
       "  </thead>\n",
       "  <tbody>\n",
       "    <tr>\n",
       "      <td>0</td>\n",
       "      <td>Rf</td>\n",
       "      <td>0.194829</td>\n",
       "      <td>0.922502</td>\n",
       "    </tr>\n",
       "    <tr>\n",
       "      <td>1</td>\n",
       "      <td>KNN</td>\n",
       "      <td>1.471080</td>\n",
       "      <td>0.879047</td>\n",
       "    </tr>\n",
       "    <tr>\n",
       "      <td>2</td>\n",
       "      <td>LogReg</td>\n",
       "      <td>0.383875</td>\n",
       "      <td>0.885485</td>\n",
       "    </tr>\n",
       "    <tr>\n",
       "      <td>3</td>\n",
       "      <td>XGBoost</td>\n",
       "      <td>0.193185</td>\n",
       "      <td>0.925894</td>\n",
       "    </tr>\n",
       "  </tbody>\n",
       "</table>\n",
       "</div>"
      ],
      "text/plain": [
       "     model      g_ce     score\n",
       "0       Rf  0.194829  0.922502\n",
       "1      KNN  1.471080  0.879047\n",
       "2   LogReg  0.383875  0.885485\n",
       "3  XGBoost  0.193185  0.925894"
      ]
     },
     "execution_count": 110,
     "metadata": {},
     "output_type": "execute_result"
    }
   ],
   "source": [
    "fit_year(1997, models)"
   ]
  },
  {
   "cell_type": "code",
   "execution_count": 111,
   "metadata": {},
   "outputs": [
    {
     "data": {
      "text/html": [
       "<div>\n",
       "<style scoped>\n",
       "    .dataframe tbody tr th:only-of-type {\n",
       "        vertical-align: middle;\n",
       "    }\n",
       "\n",
       "    .dataframe tbody tr th {\n",
       "        vertical-align: top;\n",
       "    }\n",
       "\n",
       "    .dataframe thead th {\n",
       "        text-align: right;\n",
       "    }\n",
       "</style>\n",
       "<table border=\"1\" class=\"dataframe\">\n",
       "  <thead>\n",
       "    <tr style=\"text-align: right;\">\n",
       "      <th></th>\n",
       "      <th>model</th>\n",
       "      <th>g_ce</th>\n",
       "      <th>score</th>\n",
       "    </tr>\n",
       "  </thead>\n",
       "  <tbody>\n",
       "    <tr>\n",
       "      <td>0</td>\n",
       "      <td>Rf</td>\n",
       "      <td>0.330780</td>\n",
       "      <td>0.858604</td>\n",
       "    </tr>\n",
       "    <tr>\n",
       "      <td>1</td>\n",
       "      <td>KNN</td>\n",
       "      <td>1.884345</td>\n",
       "      <td>0.670716</td>\n",
       "    </tr>\n",
       "    <tr>\n",
       "      <td>2</td>\n",
       "      <td>LogReg</td>\n",
       "      <td>0.512450</td>\n",
       "      <td>0.770186</td>\n",
       "    </tr>\n",
       "    <tr>\n",
       "      <td>3</td>\n",
       "      <td>XGBoost</td>\n",
       "      <td>0.335954</td>\n",
       "      <td>0.857508</td>\n",
       "    </tr>\n",
       "  </tbody>\n",
       "</table>\n",
       "</div>"
      ],
      "text/plain": [
       "     model      g_ce     score\n",
       "0       Rf  0.330780  0.858604\n",
       "1      KNN  1.884345  0.670716\n",
       "2   LogReg  0.512450  0.770186\n",
       "3  XGBoost  0.335954  0.857508"
      ]
     },
     "execution_count": 111,
     "metadata": {},
     "output_type": "execute_result"
    }
   ],
   "source": [
    "fit_year(1998, models)"
   ]
  },
  {
   "cell_type": "code",
   "execution_count": 112,
   "metadata": {},
   "outputs": [
    {
     "data": {
      "text/html": [
       "<div>\n",
       "<style scoped>\n",
       "    .dataframe tbody tr th:only-of-type {\n",
       "        vertical-align: middle;\n",
       "    }\n",
       "\n",
       "    .dataframe tbody tr th {\n",
       "        vertical-align: top;\n",
       "    }\n",
       "\n",
       "    .dataframe thead th {\n",
       "        text-align: right;\n",
       "    }\n",
       "</style>\n",
       "<table border=\"1\" class=\"dataframe\">\n",
       "  <thead>\n",
       "    <tr style=\"text-align: right;\">\n",
       "      <th></th>\n",
       "      <th>model</th>\n",
       "      <th>g_ce</th>\n",
       "      <th>score</th>\n",
       "    </tr>\n",
       "  </thead>\n",
       "  <tbody>\n",
       "    <tr>\n",
       "      <td>0</td>\n",
       "      <td>Rf</td>\n",
       "      <td>0.234110</td>\n",
       "      <td>0.905108</td>\n",
       "    </tr>\n",
       "    <tr>\n",
       "      <td>1</td>\n",
       "      <td>KNN</td>\n",
       "      <td>1.713051</td>\n",
       "      <td>0.816992</td>\n",
       "    </tr>\n",
       "    <tr>\n",
       "      <td>2</td>\n",
       "      <td>LogReg</td>\n",
       "      <td>0.472164</td>\n",
       "      <td>0.834229</td>\n",
       "    </tr>\n",
       "    <tr>\n",
       "      <td>3</td>\n",
       "      <td>XGBoost</td>\n",
       "      <td>0.237162</td>\n",
       "      <td>0.905944</td>\n",
       "    </tr>\n",
       "  </tbody>\n",
       "</table>\n",
       "</div>"
      ],
      "text/plain": [
       "     model      g_ce     score\n",
       "0       Rf  0.234110  0.905108\n",
       "1      KNN  1.713051  0.816992\n",
       "2   LogReg  0.472164  0.834229\n",
       "3  XGBoost  0.237162  0.905944"
      ]
     },
     "execution_count": 112,
     "metadata": {},
     "output_type": "execute_result"
    }
   ],
   "source": [
    "fit_year(1999, models)"
   ]
  },
  {
   "cell_type": "code",
   "execution_count": null,
   "metadata": {},
   "outputs": [],
   "source": []
  }
 ],
 "metadata": {
  "kernelspec": {
   "display_name": "Python 3",
   "language": "python",
   "name": "python3"
  },
  "language_info": {
   "codemirror_mode": {
    "name": "ipython",
    "version": 3
   },
   "file_extension": ".py",
   "mimetype": "text/x-python",
   "name": "python",
   "nbconvert_exporter": "python",
   "pygments_lexer": "ipython3",
   "version": "3.7.4"
  }
 },
 "nbformat": 4,
 "nbformat_minor": 2
}
