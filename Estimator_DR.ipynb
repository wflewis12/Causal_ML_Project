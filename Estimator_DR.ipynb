{
 "cells": [
  {
   "cell_type": "markdown",
   "metadata": {},
   "source": [
    "Importing Packages And Basic Set up"
   ]
  },
  {
   "cell_type": "code",
   "execution_count": 1,
   "metadata": {},
   "outputs": [],
   "source": [
    "#.venv/scripts/activate  ; no source. \n",
    "from matplotlib import pyplot as plt\n",
    "from sklearn.model_selection import train_test_split\n",
    "from sklearn.ensemble import RandomForestClassifier\n",
    "from sklearn.ensemble import AdaBoostClassifier\n",
    "from sklearn.ensemble import GradientBoostingClassifier\n",
    "from sklearn.linear_model import RidgeClassifier\n",
    "from xgboost import XGBClassifier\n",
    "from sklearn.ensemble import ExtraTreesClassifier\n",
    "from sklearn.neural_network import MLPClassifier\n",
    "from sklearn.model_selection import KFold, StratifiedKFold, train_test_split\n",
    "from sklearn.metrics import mean_squared_error, log_loss\n",
    "from sklearn.preprocessing import StandardScaler  \n",
    "from plotnine import *\n",
    "\n",
    "import numpy as np\n",
    "import pandas as pd\n",
    "\n",
    "np.random.seed(42)"
   ]
  },
  {
   "cell_type": "markdown",
   "metadata": {},
   "source": [
    "Importing Datasets"
   ]
  },
  {
   "cell_type": "code",
   "execution_count": 2,
   "metadata": {},
   "outputs": [],
   "source": [
    "# Importing maindata\n",
    "\n",
    "file_path = \"C://Users/miste/Documents/Causal_ML/\"\n",
    "\n",
    "x = pd.read_stata(file_path + \"maindata.dta\", convert_categoricals=False)\n",
    "\n",
    "# Importing laws_csv, cleaning it\n",
    "laws_csv = pd.read_csv(\"When_Were_Laws.csv\")\n",
    "laws_csv = laws_csv[np.logical_not(np.isnan(laws_csv[\"FIPS\"]))]  # FIPS codes identify states\n",
    "laws_csv = laws_csv.drop(\"State_Name\", axis=1)  # Dropping as useless\n",
    "laws_csv = laws_csv.rename({'FIPS': 'stfips'}, axis=1) \n",
    "\n",
    "# Merging\n",
    "merged = pd.merge(laws_csv, x, on='stfips', how='outer')"
   ]
  },
  {
   "cell_type": "markdown",
   "metadata": {},
   "source": [
    "Cleaning Datasets, only interested in the 1997 states. "
   ]
  },
  {
   "cell_type": "code",
   "execution_count": 3,
   "metadata": {},
   "outputs": [],
   "source": [
    "basic_merged = merged.copy()  # To allow for re-running \n",
    "plot_year = 1997\n",
    "basic_merged = basic_merged[basic_merged[\"a_age\"] <= 25]  # Can be changed later, but for now useful I think\n",
    "\n",
    "# Dropping states who were treated < 97 (i.e. they always had programs)\n",
    "# This is following Callaway + Sant'anna, as we cannot meaningfully \n",
    "# do any inference using those states. Although we can compare them later as a \n",
    "# robustness check, which may be interesting\n",
    "basic_merged = basic_merged[basic_merged[\"Year_Implemented\"].str.contains(\"always\")==False]  \n",
    "basic_merged = basic_merged[basic_merged[\"Year_Implemented\"].str.contains(\"never\")==False]  # Only want to look at one for now. \n",
    "\n",
    "# Making it so that \"never-treated\" states are treated at T = infinity\n",
    "basic_merged = basic_merged.replace(\"never\", \"1000000\") \n",
    "basic_merged[\"Year_Implemented\"] = basic_merged[\"Year_Implemented\"].astype(int)  # converting to int\n",
    "\n",
    "#basic_merged= basic_merged[basic_merged[\"Year_Implemented\"] == plot_year]  # Only look at a subset of states. \n",
    "\n",
    "# As we are treating >19 as the never-treated group, we set their year implemented as 1000000 >> 1999\n",
    "year_implemented_vector = basic_merged[\"Year_Implemented\"].copy()\n",
    "year_implemented_vector[basic_merged[\"under19\"] == 0] = 1000000\n",
    "basic_merged[\"Year_Implemented\"] = year_implemented_vector\n",
    "\n",
    "\n",
    "# Indicator for if the individual was treated (i.e. under 19)\n",
    "basic_merged[\"treatment\"] = basic_merged[\"under19\"] # This is useful because we want to this of this as the treated group\n",
    "                                                    # And it helps for thinking about the code.\n",
    "\n",
    "# Generating list of confounders of interest, these are not necessarily optimal. \n",
    "list_of_confounders = [\"year\", \"fownu18\", \"faminctm1\", \"a_maritl\", \"female\" , \"fpovcut\", \"povll\"]  # stfips\n",
    "list_of_confounders += [\"anykids\", \"disability\", \"noemp_insured\"]"
   ]
  },
  {
   "cell_type": "markdown",
   "metadata": {},
   "source": [
    "$\\underline{\\bold{\\text{Estimating causal effect}}}$"
   ]
  },
  {
   "cell_type": "markdown",
   "metadata": {},
   "source": [
    "Subsetting data"
   ]
  },
  {
   "cell_type": "markdown",
   "metadata": {},
   "source": [
    "Fitting Model"
   ]
  },
  {
   "cell_type": "code",
   "execution_count": 4,
   "metadata": {},
   "outputs": [],
   "source": [
    "def outcome_k_fold_fit_and_predict(make_model, X:pd.DataFrame, y:np.array, A:np.array, n_splits:int, year_of_interest:int):\n",
    "    '''\n",
    "    Implements K fold cross-fitting for the model predicting the outcome Y. \n",
    "    That is, \n",
    "    1. Split data into K folds\n",
    "    2. For each fold j, the model is fit on the other K-1 folds\n",
    "    3. The fitted model is used to make predictions for each set of covariates in fold j\n",
    "    3b. Each set of covariates is fitted for each combination of year x treatment\n",
    "    4. We return a matrix which contains those predictions as columns (each column is one combinatino of year x treatment)\n",
    "    5. We also return vectors which indicate the true year/treatment status for that particular set of covariates\n",
    "    \n",
    "\n",
    "    Args:\n",
    "    model: function that returns sklearn model (that implements fit and either predict_prob or predict)\n",
    "    X: dataframe of variables to adjust for\n",
    "    y: array of outcomes\n",
    "    A: array of treatments\n",
    "    n_splits: number of splits to use\n",
    "    year_of_interest: year that treatment occured\n",
    "    '''\n",
    "    # Setting up prediction vectors\n",
    "    # the 2*i'th column is year `i` with treatment = 0\n",
    "    # the (2*i)+1'th column is year `i` with treatment = 1\n",
    "    # As we predict for 18 years, there are 36 columns. \n",
    "    predictions_matrix = np.empty(shape=(y.shape[0], 36))\n",
    "\n",
    "    # k-folding\n",
    "    kf = StratifiedKFold(n_splits=n_splits, shuffle=True, random_state=42)\n",
    "\n",
    "    # include the treatment as input feature\n",
    "    X_w_treatment = X.copy()\n",
    "    X_w_treatment[\"A\"] = A\n",
    "\n",
    "    # Generating vectors which will contain the true treatment/year combination for each covariate. \n",
    "    year_vec = np.full_like(X_w_treatment[\"year\"], np.nan, dtype=float)\n",
    "    treat_vec = np.full_like(X_w_treatment[\"year\"], np.nan, dtype=float)\n",
    "\n",
    "    # NO LONGER: Normalizing years so that year =1 when treatment first occurs. \n",
    "    #X_w_treatment[\"year\"] = X_w_treatment[\"year\"] - (year_of_interest - 1)\n",
    "\n",
    "    for train_index, test_index in kf.split(X_w_treatment, y):\n",
    "        X_train = X_w_treatment.loc[train_index]\n",
    "        y_train = y.loc[train_index]\n",
    "        q = make_model()\n",
    "        q.fit(X_train, y_train)\n",
    "\n",
    "        # This saves the vector of years so we only get the att for the 1997 group\n",
    "        year_vec[test_index] =  X_w_treatment[\"year\"].loc[test_index]\n",
    "\n",
    "        # This saves the vector of treated statuses, as we want to condition on A = 1 (we want ATT, not ATE)\n",
    "        treat_vec[test_index] = A.loc[test_index]\n",
    "\n",
    "        for j in range(1991, 2009):\n",
    "            X0 = X_w_treatment.copy()\n",
    "            X0[\"A\"] = 0  # Setting treatment to 0 \n",
    "            X0[\"year\"] = j # Changing the year to the year of interest\n",
    "            col_num = 2*(j - 1991)  # Which column the data should go in\n",
    "            predictions_matrix[test_index,col_num] = q.predict_proba(X0.loc[test_index])[:, 1]\n",
    "        for j in range(1991,2009):\n",
    "            X1 = X_w_treatment.copy()\n",
    "            X1[\"A\"] = 1  # Setting treatment to 1\n",
    "            X1[\"year\"] = j # Changing the year to the year of interest\n",
    "            col_num = 2*(j - 1991) + 1  # Which column the data should go in\n",
    "            predictions_matrix[test_index,col_num] = q.predict_proba(X1.loc[test_index])[:, 1]\n",
    "\n",
    "    assert np.isnan(predictions_matrix).sum() == 0  # Sanity check that we have no missings\n",
    "    return predictions_matrix, year_vec, treat_vec\n",
    "\n",
    "def treatment_k_fold_fit_and_predict(make_model, X:pd.DataFrame, A:np.array, n_splits:int, year_of_interest:int, year_implemented_vec):\n",
    "    g_matrix = np.full_like(A, np.nan, dtype=float)\n",
    "\n",
    "    # k-folding\n",
    "    kf = StratifiedKFold(n_splits=n_splits, shuffle=True, random_state=42)\n",
    "\n",
    "    # include the treatment as input feature\n",
    "    covariates = X.copy()\n",
    "    \n",
    "\n",
    "    # Generating vectors which will contain the true treatment/year combination for each covariate. \n",
    "    # Normalizing years so that year =1 when treatment first occurs. \n",
    "    #covariates.drop(\"year\", axis=1)  # We are interested in the covariates, not the year they were found in. \n",
    "\n",
    "    for train_index, test_index in kf.split(covariates, A):\n",
    "        X_train = covariates.loc[train_index]\n",
    "        y_train = A.loc[train_index]\n",
    "        \n",
    "        # We only fit for states treated in group g, and never treated\n",
    "        # Specifically, we look at E(G_g | X, G_g + C = 1)\n",
    "        G_g_plus_C = np.logical_or(np.equal(year_implemented_vec[train_index],year_of_interest), \\\n",
    "                                   np.equal(year_implemented_vec[train_index],1000000))\n",
    "        X_train = X_train[G_g_plus_C]\n",
    "        y_train = y_train[G_g_plus_C]\n",
    "\n",
    "        g = make_model()\n",
    "        g.fit(X_train, y_train)\n",
    "        g_matrix[test_index] = g.predict_proba(covariates.loc[test_index])[:, 1]\n",
    "\n",
    "    assert np.isnan(g_matrix).sum() == 0  # Sanity check that we have no missings\n",
    "    print(\"Max p:\" + str(np.max(g_matrix))) # Checking for overlap\n",
    "    from matplotlib.pyplot import hist\n",
    "    hist(g_matrix, density=True)\n",
    "    return g_matrix"
   ]
  },
  {
   "cell_type": "markdown",
   "metadata": {},
   "source": [
    "Define models to Use"
   ]
  },
  {
   "cell_type": "code",
   "execution_count": 5,
   "metadata": {},
   "outputs": [],
   "source": [
    "# Works the best\n",
    "def make_Q_model():\n",
    "    ''' A function that returns a general ML q model for later use in k-folding'''\n",
    "    return RandomForestClassifier(random_state=42, n_estimators=100, max_depth=5)\n",
    "\n",
    "from sklearn.linear_model import LogisticRegression\n",
    "from sklearn.pipeline import make_pipeline\n",
    "from sklearn.preprocessing import StandardScaler\n",
    "from sklearn.svm import SVC\n",
    "from xgboost import XGBClassifier\n",
    "from sklearn.neural_network import MLPClassifier\n",
    "def make_g_model():\n",
    "    #return RandomForestClassifier(random_state=42, n_estimators=100) # No max depth cause I felt like messing with it. \n",
    "    return LogisticRegression(random_state=42, max_iter=200)\n",
    "    #return MLPClassifier(hidden_layer_sizes=(15,),solver=\"adam\")"
   ]
  },
  {
   "cell_type": "markdown",
   "metadata": {},
   "source": [
    "Estimating the ATT's\n"
   ]
  },
  {
   "cell_type": "code",
   "execution_count": 11,
   "metadata": {},
   "outputs": [],
   "source": [
    "def ATT_event_study(stfips:np.ndarray, year_of_interest:int, response:str, confounder_list:list, dataframe:pd.DataFrame, model):\n",
    "    '''\n",
    "    Estimates ATT(g,t) for the combinations of g,t which we are interested in. \n",
    "\n",
    "    Based on Callaway & Sant'anna, we compute ATT(g,t) over time\n",
    "\n",
    "    We say that ATT(g,t) is the ATT for group g at time `t`\n",
    "    We compare the outcomes at time `t` to a base date, which we refer to as g_d_1\n",
    "    \n",
    "    If time `t` occurs >= treatment_year (i.e. when treatment first occurs), then g_d_1 = treatment_year - 1\n",
    "    Otherwise, we say that g_d_1 = t - 1\n",
    "\n",
    "    For intuition, if t >= treatment_year, we are looking at the DiD comparing outcomes at time `t` to \n",
    "    those which were immediately before treatment. If t < treatment_year, then we are performing a robustness check.\n",
    "    That robustness check involves pretending that treatment occured at time t, and comparing it to the previous period's outcomes. \n",
    "\n",
    "    For each g,t of interest, we compute:\n",
    "\n",
    "    ATT(g,t)_DR -- formula for which appears in Callaway + Sant'anna (will add later if we end up using this).\n",
    "    \n",
    "    We also compute standard errors, and return the ATT(g,t) + standard errors as two different lists. \n",
    "\n",
    "    stfips: the FIPS codes for the states of interest\n",
    "    year_of_interest: the year at which treatment first occurs\n",
    "    response: which outcome we are interested in, out of public/private/all insurance. \n",
    "    confounder_list: list of columns of dataframe to use as confounders\n",
    "    dataframe: dataframe to get data from\n",
    "    model: machine learning ensemble model to use as the Q model\n",
    "    '''\n",
    "\n",
    "    results_df = {}\n",
    "    state_level = dataframe.loc[dataframe['stfips'].isin(stfips),:] # Subset for states of interest\n",
    "\n",
    "    state_level = state_level[confounder_list+ [\"treatment\", response, \"Year_Implemented\"]]  # Subsetting for features of interest\n",
    "\n",
    "    # Drop missings, only needed for some models, \n",
    "    state_level = state_level.dropna(axis = 0)\n",
    "\n",
    "    # Setting up \n",
    "    state_level = state_level.reset_index(drop=True)\n",
    "    confounders = state_level[list_of_confounders]\n",
    "    treatment = state_level['treatment']\n",
    "    outcome = state_level[response]\n",
    "\n",
    "    # Fitting\n",
    "    predictions_matrix, year_vec, treat_vec = outcome_k_fold_fit_and_predict(model, \\\n",
    "                                        X=confounders, y=outcome, A=treatment,  n_splits=5, \\\n",
    "                                        year_of_interest=year_of_interest) \n",
    "    # the 2*i'th column is always the untreated vec, and the (2*i)+1 is treated. \n",
    "    g_matrix = treatment_k_fold_fit_and_predict(make_g_model, X=confounders, A=treatment, n_splits=5, \\\n",
    "                                                year_of_interest=year_of_interest, year_implemented_vec=state_level[\"Year_Implemented\"])\n",
    "                                                \n",
    "    # Weight on the first term. \n",
    "    # This depends only on g so we can pull it out here\n",
    "    w_g = (treat_vec == 1) * (state_level[\"Year_Implemented\"] == year_of_interest) #* (year_vec == 1) # We only want the ATT, so we weight appropriately\n",
    "                                                # to only look at the untils treated at t=1\n",
    "    w_g = w_g / np.mean(w_g) # To ensure mean of the weights is 1, weights are >= 0 by construction\n",
    "    \n",
    "    for i in range(1,18): # we look at the ATT for 1992-2008 (cannot look at 1991 as we have no 1990 data)\n",
    "        year = i + 1991 # What actual year we are looking at in the for loop\n",
    "        # Generating term 1:\n",
    "        m_treat_1 = predictions_matrix[:,(2*i)+1]  # m_treat_1 \n",
    "        m_nev_1 = predictions_matrix[:,(2*i)]  # m_nev_1\n",
    "        if year >= year_of_interest: # If we've gotten to the treatment year \n",
    "            m_treat_0 = predictions_matrix[:,(2*(year_of_interest-1991))-1]  # m_treat_0\n",
    "            m_nev_0 = predictions_matrix[:,(2*(year_of_interest-1991))-2]  # m_nev_0\n",
    "        else:  # otherwise we do a short difference. \n",
    "            m_treat_0 = predictions_matrix[:,(2*i)-1]  # m_treat_0\n",
    "            m_nev_0 = predictions_matrix[:,(2*i)-2]  # m_nev_0\n",
    "        term_1 = w_g * (m_treat_1 - m_treat_0 - (m_nev_1 - m_nev_0))  \n",
    "\n",
    "        ### Generating term 2:\n",
    "        # This weight equals 1 if the unit appears at time t and is in group g\n",
    "        w_treat_1 = (year_vec == year) * (state_level[\"Year_Implemented\"] == year_of_interest)  \n",
    "\n",
    "        w_treat_1 = w_treat_1 / np.mean(w_treat_1)\n",
    "\n",
    "        # This weight equals 1 if the unit appears at time g_d_1 and is in group g\n",
    "        if year >= year_of_interest: # If we've gotten to the treatment year\n",
    "            w_treat_0 = (year_vec == year_of_interest - 1) * (state_level[\"Year_Implemented\"] == year_of_interest)  # Equals 1 if in year, and treated at year_of_interest\n",
    "            w_treat_0 = w_treat_0 / np.mean(w_treat_0)\n",
    "        else:\n",
    "            w_treat_0 = (year_vec == year - 1) * (state_level[\"Year_Implemented\"] == year_of_interest)  # Equals 1 if in year, and treated at year_of_interest\n",
    "            w_treat_0 = w_treat_0 / np.mean(w_treat_0)\n",
    "\n",
    "        term_2 = w_treat_1 * (outcome - m_treat_1) - w_treat_0 * (outcome - m_treat_0)\n",
    "        \n",
    "        ### Generating term 3:\n",
    "        \n",
    "        # This weight equals g/(1-g) / E(g/(1-g)) if you are never treated and appear at time t. \n",
    "        w_nev_1 = (year_vec == year) * (state_level[\"Year_Implemented\"] >= 2002) * g_matrix / (1 - g_matrix)\n",
    "\n",
    "        w_nev_1 = w_nev_1 / np.mean(w_nev_1)\n",
    "        \n",
    "        # This weight equals g/(1-g) / E(g/(1-g)) if you are never treated and appear at time g_d_1. \n",
    "        if year >= year_of_interest:\n",
    "            w_nev_0 = (year_vec == year_of_interest - 1) * (state_level[\"Year_Implemented\"] >= 3000) * g_matrix / (1 - g_matrix)\n",
    "            w_nev_0 = w_nev_0 / np.mean(w_nev_0)\n",
    "        else:\n",
    "            w_nev_0 = (year_vec == year - 1) * (state_level[\"Year_Implemented\"] >= 3000) * g_matrix / (1 - g_matrix)\n",
    "            w_nev_0 = w_nev_0 / np.mean(w_nev_0)\n",
    "        \n",
    "        \n",
    "        term_3 = w_nev_1 * (outcome - m_nev_1) - w_nev_0 * (outcome - m_nev_0)\n",
    "\n",
    "        # Multiplying by 100 to convert to %\n",
    "        mean = (np.mean(term_1) + np.mean(term_2) - np.mean(term_3)) * 100 \n",
    "        # Computing standard error from the influence curve (final - np.mean(final) * A)\n",
    "        # This assumes that they are iid (I think), which is unrealistic.  Not sure how to weaken. \n",
    "        ste = np.sqrt(np.var(term_1) + np.var(term_2) + np.var(term_3))*100 / np.sqrt(term_1.shape[0])\n",
    "\n",
    "\n",
    "        results_df.setdefault('year',[]).append(i + 1991)\n",
    "        results_df.setdefault('att',[]).append(mean)\n",
    "        results_df.setdefault('std',[]).append(ste)\n",
    "        results_df.setdefault('model',[]).append(model.__name__ )\n",
    "        results_df.setdefault('response',[]).append(response)\n",
    "        results_df.setdefault('treat_year',[]).append(year_of_interest)\n",
    "\n",
    "    results_df = pd.DataFrame(results_df)\n",
    "\n",
    "    return results_df"
   ]
  },
  {
   "cell_type": "code",
   "execution_count": 8,
   "metadata": {},
   "outputs": [
    {
     "name": "stdout",
     "output_type": "stream",
     "text": [
      "Max p:0.9866696437944126\n"
     ]
    },
    {
     "data": {
      "image/png": "[encoded data removed]",
      "text/plain": [
       "<Figure size 640x480 with 1 Axes>"
      ]
     },
     "metadata": {},
     "output_type": "display_data"
    }
   ],
   "source": [
    "# Get all states which implemented programs in that year\n",
    "states_in_year = basic_merged[basic_merged['Year_Implemented'] == plot_year][\"stfips\"].unique()\n",
    "\n",
    "new_year = ATT_event_study(states_in_year,plot_year, \"insured\", list_of_confounders, basic_merged, make_Q_model)\n",
    "\n",
    "all_years = new_year"
   ]
  },
  {
   "cell_type": "code",
   "execution_count": 9,
   "metadata": {},
   "outputs": [
    {
     "name": "stdout",
     "output_type": "stream",
     "text": [
      "[-1.38810812 -9.69778428 11.58643136  2.02342338 -1.11664323]\n",
      "[2.58297514 2.51288755 2.72321061 2.89703748 2.77749244]\n"
     ]
    },
    {
     "data": {
      "image/png": "[encoded data removed]",
      "text/plain": [
       "<Figure size 640x480 with 1 Axes>"
      ]
     },
     "metadata": {},
     "output_type": "display_data"
    }
   ],
   "source": [
    "# Plotnine code to make plot for pre-treatment effects\n",
    "pre_treat = all_years[(all_years[\"year\"] < plot_year) & (all_years[\"treat_year\"] != 2006)].copy()\n",
    "\n",
    "pre_treat[\"treat_year\"] = pre_treat[\"treat_year\"].replace(2006, \"Never Implemented\")\n",
    "\n",
    "x = np.arange(1992-plot_year, 0, 1) \n",
    "plt.plot(x, pre_treat[pre_treat[\"treat_year\"]==plot_year][\"att\"], label= \"g = \"+ str(plot_year))\n",
    "mean_list = np.array(pre_treat[pre_treat[\"treat_year\"]==plot_year][\"att\"])\n",
    "ste_list = np.array(pre_treat[pre_treat[\"treat_year\"]==plot_year][\"std\"])\n",
    "\n",
    "for i in range(len(mean_list)):\n",
    "    plt.errorbar(x=i + 1992 - plot_year, y=mean_list[i], yerr=ste_list[i], \\\n",
    "                 color=\"black\", capsize=3, linestyle=\"None\",\\\n",
    "                marker=\"s\", markersize=7, mfc=\"black\", mec=\"black\")\n",
    "#x = np.arange(-6, -1, 1) \n",
    "#plt.plot(x, pre_treat[pre_treat[\"treat_year\"]==1998][\"att\"], label= \"g = 1998\")\n",
    "#x = np.arange(-6, -1, 1) \n",
    "#plt.plot(x, pre_treat[pre_treat[\"treat_year\"]==1999][\"att\"], label= \"g = 1999\")\n",
    "plt.axhline(y = 0, color = 'k', linestyle = \"dashed\")  \n",
    "plt.title(\"Testing Pre-Trends\")\n",
    "plt.show()"
   ]
  },
  {
   "cell_type": "code",
   "execution_count": 10,
   "metadata": {},
   "outputs": [
    {
     "data": {
      "image/png": "[encoded data removed]",
      "text/plain": [
       "<Figure size 640x480 with 1 Axes>"
      ]
     },
     "metadata": {},
     "output_type": "display_data"
    }
   ],
   "source": [
    "post_treat = all_years[(all_years[\"year\"] >= plot_year) & (all_years[\"treat_year\"] != 2006)].copy()\n",
    "\n",
    "post_treat[\"treat_year\"] = post_treat[\"treat_year\"].replace(2006, \"Never Implemented\")\n",
    "\n",
    "x = np.arange(1, 2010-plot_year, 1) \n",
    "plt.plot(x, post_treat[post_treat[\"treat_year\"]==plot_year][\"att\"], label= \"g = \" +str(plot_year))\n",
    "\n",
    "mean_list = np.array(post_treat[post_treat[\"treat_year\"]==plot_year][\"att\"])\n",
    "ste_list = np.array(post_treat[post_treat[\"treat_year\"]==plot_year][\"std\"])\n",
    "\n",
    "\n",
    "for i in range(1,2009-plot_year ):\n",
    "    plt.errorbar(x=i, y=mean_list[i-1], yerr=ste_list[i-1], \\\n",
    "                 color=\"black\", capsize=3, linestyle=\"None\",\\\n",
    "                marker=\"s\", markersize=7, mfc=\"black\", mec=\"black\")\n",
    "\n",
    "plt.axhline(y = 0, color = 'k', linestyle = \"dashed\")  \n",
    "plt.title(\"ATT(g,t), g = \" + str(plot_year))\n",
    "plt.show()"
   ]
  }
 ],
 "metadata": {
  "kernelspec": {
   "display_name": "Python 3.9.7 ('.venv': venv)",
   "language": "python",
   "name": "python3"
  },
  "language_info": {
   "codemirror_mode": {
    "name": "ipython",
    "version": 3
   },
   "file_extension": ".py",
   "mimetype": "text/x-python",
   "name": "python",
   "nbconvert_exporter": "python",
   "pygments_lexer": "ipython3",
   "version": "3.9.7"
  },
  "orig_nbformat": 4,
  "vscode": {
   "interpreter": {
    "hash": "e1117a3f67b6f9f07c9cd111c1d164c2c78fdaed6c7ec8e557fb0bc2f3980f47"
   }
  }
 },
 "nbformat": 4,
 "nbformat_minor": 2
}
