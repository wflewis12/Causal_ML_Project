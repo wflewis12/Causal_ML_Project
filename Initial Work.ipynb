{
 "cells": [
  {
   "cell_type": "markdown",
   "metadata": {},
   "source": [
    "Importing Packages And Basic Set up"
   ]
  },
  {
   "cell_type": "code",
   "execution_count": 141,
   "metadata": {},
   "outputs": [],
   "source": [
    "#.venv/scripts/activate  ; no source. \n",
    "import xgboost as xgb\n",
    "from matplotlib.pyplot import hist\n",
    "from sklearn.naive_bayes import GaussianNB\n",
    "from sklearn.neighbors import KNeighborsClassifier\n",
    "from sklearn.ensemble import HistGradientBoostingClassifier\n",
    "from sklearn import svm\n",
    "from sklearn.model_selection import train_test_split\n",
    "from sklearn.linear_model import LogisticRegression\n",
    "from sklearn.ensemble import RandomForestClassifier\n",
    "from sklearn.ensemble import RandomForestRegressor\n",
    "from sklearn.model_selection import KFold, StratifiedKFold, train_test_split\n",
    "from sklearn.metrics import mean_squared_error, log_loss\n",
    "import pandas as pd\n",
    "\n",
    "import numpy as np\n",
    "import pandas as pd\n",
    "\n",
    "RANDOM_SEED = 23\n"
   ]
  },
  {
   "cell_type": "markdown",
   "metadata": {},
   "source": [
    "Importing Datasets"
   ]
  },
  {
   "cell_type": "code",
   "execution_count": 142,
   "metadata": {},
   "outputs": [],
   "source": [
    "# Importing maindata\n",
    "file_path = \"C://Users/miste/Documents/Causal_ML/\"\n",
    "x = pd.read_stata(file_path + \"maindata.dta\", convert_categoricals=False)\n",
    "\n",
    "# Importing laws_csv, cleaning it\n",
    "laws_csv = pd.read_csv(file_path + \"When_Were_Laws.csv\")\n",
    "laws_csv = laws_csv[np.logical_not(np.isnan(laws_csv[\"FIPS\"]))]  # FIPS codes identify states\n",
    "laws_csv = laws_csv.drop(\"State_Name\", axis=1)  # Dropping as useless\n",
    "laws_csv = laws_csv.rename({'FIPS': 'stfips'}, axis=1) \n",
    "\n",
    "# Merging\n",
    "merged = pd.merge(laws_csv, x, on='stfips', how='outer')\n"
   ]
  },
  {
   "cell_type": "markdown",
   "metadata": {},
   "source": [
    "Cleaning Datasets, only interested in the 1997 states. "
   ]
  },
  {
   "cell_type": "code",
   "execution_count": 143,
   "metadata": {},
   "outputs": [],
   "source": [
    "basic_merged = merged.copy()  # To allow for re-running \n",
    "\n",
    "# Dropping states who were treated < 97 (i.e. they always had programs)\n",
    "basic_merged = basic_merged[basic_merged[\"Year_Implemented\"].str.contains(\"always\")==False]  \n",
    "\n",
    "# Making it so that \"never-treated\" states are treated at T = infinity\n",
    "basic_merged = basic_merged.replace(\"never\", \"1000000\") \n",
    "basic_merged[\"Year_Implemented\"] = basic_merged[\"Year_Implemented\"].astype(int) # converting to int\n",
    "\n",
    "# indicator for if treatment has occured in state i\n",
    "basic_merged[\"year_indic\"] = (basic_merged[\"year\"] >= basic_merged[\"Year_Implemented\"]) \n",
    "\n",
    "# Indicator for if the individual was treated (i.e. under 19 and in a state who added a law)\n",
    "basic_merged[\"treatment\"] = basic_merged[\"under19\"] * basic_merged[\"year_indic\"]\n",
    "\n",
    "# Generating list of confounders of interest, these are not necessarily optimal. \n",
    "list_of_confounders = [ \"fownu18\", \"fpovcut\", \"povll\", \"faminctm1\", \"a_maritl\"] \n",
    "list_of_confounders += [\"a_hga\",  \"anykids\", \"year\", \"stfips\", \"disability\", \"elig\"] \n",
    "\n",
    "# Dropping years  outside of [1995,2000] \n",
    "basic_merged = basic_merged[basic_merged[\"year\"] <= 2000]\n",
    "basic_merged = basic_merged[basic_merged[\"year\"] >= 1995]\n",
    "\n",
    "# Subsetting our dataset to only include the columns we want, and dropping all rows with empty entries. \n",
    "basic_merged = basic_merged[list_of_confounders + [\"treatment\", \"pubonly\", \"insured\", \"privonly\", \"Year_Implemented\"]]\n",
    "basic_merged = basic_merged.dropna(axis = 0)\n",
    "\n",
    "# Setting up matrices with confounders and either the treatment or no treatment\n",
    "# In practice, we only use the former. But the latter is useful for predicting hat(g)\n",
    "confounders_and_treat = basic_merged[list_of_confounders + [\"treatment\"]]\n",
    "confounders_no_treat = basic_merged[list_of_confounders]\n",
    "\n",
    "# Outcome of interest, this can be set to: [ \"pubonly\", \"insured\", \"privonly\"]\n",
    "y_var = basic_merged[\"privonly\"]"
   ]
  },
  {
   "cell_type": "markdown",
   "metadata": {},
   "source": [
    "Fitting Q"
   ]
  },
  {
   "cell_type": "code",
   "execution_count": 144,
   "metadata": {},
   "outputs": [
    {
     "name": "stdout",
     "output_type": "stream",
     "text": [
      "Model Score: 0.8135968963606134\n"
     ]
    }
   ],
   "source": [
    "# This is probably where my model goes wrong, as we're likely overfitting. Keep stratified k-fold\n",
    "x_train, x_test, y_train, y_test = train_test_split(confounders_and_treat, y_var, test_size=0.2)\n",
    "\n",
    "Q = HistGradientBoostingClassifier()\n",
    "Q.fit(x_train, y_train)\n",
    "score2 = Q.score(x_test,y_test)\n",
    "print(\"Model Score: \" + str(score2))   \n",
    "                          \n",
    "# Can fit g as well, normally get ~95-99%"
   ]
  },
  {
   "cell_type": "markdown",
   "metadata": {},
   "source": [
    "Estimating causal effect"
   ]
  },
  {
   "cell_type": "code",
   "execution_count": 145,
   "metadata": {},
   "outputs": [],
   "source": [
    "#INSERT STUFF HERE! Not sure how to do it right. "
   ]
  }
 ],
 "metadata": {
  "kernelspec": {
   "display_name": "Python 3.9.7 ('.venv': venv)",
   "language": "python",
   "name": "python3"
  },
  "language_info": {
   "codemirror_mode": {
    "name": "ipython",
    "version": 3
   },
   "file_extension": ".py",
   "mimetype": "text/x-python",
   "name": "python",
   "nbconvert_exporter": "python",
   "pygments_lexer": "ipython3",
   "version": "3.9.7"
  },
  "orig_nbformat": 4,
  "vscode": {
   "interpreter": {
    "hash": "e1117a3f67b6f9f07c9cd111c1d164c2c78fdaed6c7ec8e557fb0bc2f3980f47"
   }
  }
 },
 "nbformat": 4,
 "nbformat_minor": 2
}
