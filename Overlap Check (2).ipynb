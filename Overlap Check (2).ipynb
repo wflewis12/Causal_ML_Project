{
 "cells": [
  {
   "cell_type": "code",
   "execution_count": 113,
   "metadata": {},
   "outputs": [],
   "source": [
    "import warnings\n",
    "warnings.filterwarnings(\"ignore\", category=DeprecationWarning) "
   ]
  },
  {
   "cell_type": "code",
   "execution_count": 114,
   "metadata": {},
   "outputs": [],
   "source": [
    "import numpy as np\n",
    "import pandas as pd\n",
    "import scipy as sp\n",
    "from sklearn.ensemble import RandomForestClassifier, RandomForestRegressor\n",
    "from sklearn.linear_model import LinearRegression\n",
    "from sklearn.model_selection import KFold, StratifiedKFold, train_test_split\n",
    "from sklearn.metrics import mean_squared_error, log_loss\n",
    "import sklearn\n",
    "import os\n",
    "from matplotlib.pyplot import hist"
   ]
  },
  {
   "cell_type": "code",
   "execution_count": 115,
   "metadata": {},
   "outputs": [],
   "source": [
    "RANDOM_SEED=42\n",
    "np.random.seed(RANDOM_SEED)"
   ]
  },
  {
   "cell_type": "code",
   "execution_count": 116,
   "metadata": {},
   "outputs": [],
   "source": [
    "x = pd.read_stata(\"maindata.dta\", convert_categoricals=False)\n",
    "laws_csv = pd.read_csv(\"When_Were_Laws.csv\")\n",
    "laws_csv = laws_csv[np.logical_not(np.isnan(laws_csv[\"FIPS\"]))]  # FIPS codes identify states\n",
    "laws_csv = laws_csv.drop(\"State_Name\", axis=1)  # Dropping as useless\n",
    "laws_csv = laws_csv.rename({'FIPS': 'stfips'}, axis=1) \n",
    "\n",
    "# Merging\n",
    "merged = pd.merge(laws_csv, x, on='stfips', how='outer')"
   ]
  },
  {
   "cell_type": "code",
   "execution_count": 124,
   "metadata": {},
   "outputs": [],
   "source": [
    "basic_merged = merged.copy()  # To allow for re-running \n",
    "\n",
    "basic_merged = basic_merged[basic_merged[\"a_age\"] <= 25]  # Can be changed later, but for now useful I think\n",
    "#age_subset = np.logical_and(np.greater_equal(basic_merged[\"a_age\"],18), np.greater_equal(19,basic_merged[\"a_age\"]))\n",
    "# 17 <= age <= 21 (maybe should be like 22)\n",
    "#basic_merged = basic_merged[age_subset]\n",
    "#print(basic_merged.shape)\n",
    "\n",
    "# Dropping states who were treated < 97 (i.e. they always had programs)\n",
    "# This is following Callaway + Sant'anna, as we cannot meaningfully \n",
    "# do any inference using those states. Although we can compare them later as a \n",
    "# robustness check, which may be interesting\n",
    "basic_merged = basic_merged[basic_merged[\"Year_Implemented\"].str.contains(\"always\")==False]  \n",
    "\n",
    "# I also drop the never states, as they may be substantively different from others, although this can be relaxed later.\n",
    "basic_merged = basic_merged.replace(\"never\", \"1000000\") \n",
    "basic_merged[\"Year_Implemented\"] = basic_merged[\"Year_Implemented\"].astype(int)  # converting to intbasic_merged = basic_merged[basic_merged[\"Year_Implemented\"].str.contains(\"never\")==False]  # Only want to look at one for now. \n",
    "\n",
    "# As we are treating >19 as the never-treated group, we set their year implemented as 1000000 >> 1999\n",
    "year_implemented_vector = basic_merged[\"Year_Implemented\"].copy()\n",
    "year_implemented_vector[basic_merged[\"under19\"] == 0] = 1000000\n",
    "basic_merged[\"group\"] = year_implemented_vector  # Equals the year you were first treated. If >=19 then treated at t = infty\n",
    "\n",
    "# Drop Arizona since they implemented late and later repealed policy\n",
    "basic_merged = basic_merged[basic_merged[\"stfips\"] != 5]\n",
    "\n",
    "# Generating list of confounders of interest, these are not necessarily optimal. \n",
    "list_of_confounders = [\"fownu18\", \"a_maritl\", \"female\" , \"povll\"]#, \"stfips\"]\n",
    "list_of_confounders += [\"anykids\", \"disability\", \"collgrad\", \"hsgrad\"] # coll + hs are extra for now. "
   ]
  },
  {
   "cell_type": "code",
   "execution_count": 157,
   "metadata": {},
   "outputs": [],
   "source": [
    "def make_g_model():\n",
    "  return sklearn.ensemble.GradientBoostingClassifier()"
   ]
  },
  {
   "cell_type": "code",
   "execution_count": 127,
   "metadata": {},
   "outputs": [],
   "source": [
    "def treatment_k_fold_fit_and_predict(make_model, X:pd.DataFrame, A:np.array, n_splits:int):\n",
    "    \"\"\"\n",
    "    Implements K fold cross-fitting for the model predicting the treatment A. \n",
    "    That is, \n",
    "    1. Split data into K folds\n",
    "    2. For each fold j, the model is fit on the other K-1 folds\n",
    "    3. The fitted model is used to make predictions for each data point in fold j\n",
    "    Returns an array containing the predictions  \n",
    "\n",
    "    Args:\n",
    "    model: function that returns sklearn model (which implements fit and predict_prob)\n",
    "    X: dataframe of variables to adjust for\n",
    "    A: array of treatments\n",
    "    n_splits: number of splits to use\n",
    "    \"\"\"\n",
    "    predictions = np.full_like(A, np.nan, dtype=float)\n",
    "    kf = StratifiedKFold(n_splits=n_splits, shuffle=True, random_state=RANDOM_SEED)\n",
    "    \n",
    "    for train_index, test_index in kf.split(X, A):\n",
    "      X_train = X.loc[train_index]\n",
    "      A_train = A.loc[train_index]\n",
    "      g = make_model()\n",
    "      g.fit(X_train, A_train)\n",
    "\n",
    "      # get predictions for split\n",
    "      predictions[test_index] = g.predict_proba(X.loc[test_index])[:, 1]\n",
    "\n",
    "    assert np.isnan(predictions).sum() == 0\n",
    "    return predictions"
   ]
  },
  {
   "cell_type": "code",
   "execution_count": 128,
   "metadata": {},
   "outputs": [],
   "source": [
    "#overlap and g scores are calculated as the probabiliy that the indiviual is treated (under 19) in treated year given\n",
    "#that you were either in that state in 1997 or never treated at all (over age of 19)\n",
    "def calculate_g(treated_year):\n",
    "    sub_merged = basic_merged.copy()\n",
    "    \n",
    "    #data of indiviuals \n",
    "    sub_merged = sub_merged[(sub_merged[\"group\"] == treated_year) | (sub_merged[\"group\"] == 1000000)]\n",
    "    \n",
    "    treatment_bin = {treated_year: 1, 1000000: 0}\n",
    "    sub_merged.group = [treatment_bin[item] for item in sub_merged.group]\n",
    "    sub_merged = sub_merged.reset_index()\n",
    "    \n",
    "    treatment = sub_merged[\"group\"]\n",
    "    confounders = sub_merged[list_of_confounders]\n",
    "    \n",
    "    g = treatment_k_fold_fit_and_predict(make_g_model, X=confounders, A=treatment, n_splits=10)\n",
    "    \n",
    "    return g\n",
    "    "
   ]
  },
  {
   "cell_type": "code",
   "execution_count": 129,
   "metadata": {},
   "outputs": [
    {
     "data": {
      "text/plain": [
       "(array([9.87453270e+00, 4.14058788e-01, 2.20641962e-02, 1.10699765e-01,\n",
       "        1.15273588e+00, 3.79731445e-02, 5.01700048e-01, 6.57333123e-01,\n",
       "        1.31817000e-01, 4.35602156e-03]),\n",
       " array([0.        , 0.07747571, 0.15495143, 0.23242714, 0.30990285,\n",
       "        0.38737857, 0.46485428, 0.54232999, 0.61980571, 0.69728142,\n",
       "        0.77475713]),\n",
       " <a list of 10 Patch objects>)"
      ]
     },
     "execution_count": 129,
     "metadata": {},
     "output_type": "execute_result"
    },
    {
     "data": {
      "image/png": "[encoded data removed]",
      "text/plain": [
       "<Figure size 432x288 with 1 Axes>"
      ]
     },
     "metadata": {
      "needs_background": "light"
     },
     "output_type": "display_data"
    }
   ],
   "source": [
    "g1 = calculate_g(1997)\n",
    "hist(g1, density=True)"
   ]
  },
  {
   "cell_type": "code",
   "execution_count": 137,
   "metadata": {},
   "outputs": [
    {
     "data": {
      "text/plain": [
       "0.7747571319209327"
      ]
     },
     "execution_count": 137,
     "metadata": {},
     "output_type": "execute_result"
    }
   ],
   "source": [
    "g1.max()"
   ]
  },
  {
   "cell_type": "code",
   "execution_count": 158,
   "metadata": {},
   "outputs": [
    {
     "data": {
      "text/plain": [
       "(array([3.63185619, 1.75280095, 0.94416622, 0.29760142, 0.00621291,\n",
       "        0.00697196, 0.03320114, 1.64220544, 0.50015368, 1.91616405]),\n",
       " array([8.15569763e-04, 9.40006298e-02, 1.87185690e-01, 2.80370750e-01,\n",
       "        3.73555810e-01, 4.66740870e-01, 5.59925930e-01, 6.53110990e-01,\n",
       "        7.46296050e-01, 8.39481110e-01, 9.32666170e-01]),\n",
       " <a list of 10 Patch objects>)"
      ]
     },
     "execution_count": 158,
     "metadata": {},
     "output_type": "execute_result"
    },
    {
     "data": {
      "image/png": "[encoded data removed]",
      "text/plain": [
       "<Figure size 432x288 with 1 Axes>"
      ]
     },
     "metadata": {
      "needs_background": "light"
     },
     "output_type": "display_data"
    }
   ],
   "source": [
    "g2 = calculate_g(1998)\n",
    "hist(g2, density=True)"
   ]
  },
  {
   "cell_type": "code",
   "execution_count": 159,
   "metadata": {},
   "outputs": [
    {
     "data": {
      "text/plain": [
       "0.932666170478082"
      ]
     },
     "execution_count": 159,
     "metadata": {},
     "output_type": "execute_result"
    }
   ],
   "source": [
    "g2.max()"
   ]
  },
  {
   "cell_type": "code",
   "execution_count": 131,
   "metadata": {},
   "outputs": [
    {
     "data": {
      "text/plain": [
       "(array([8.52532751, 0.99057759, 0.04205426, 0.01490146, 0.01955002,\n",
       "        1.30316062, 0.1066562 , 0.35216095, 1.08624233, 0.15314179]),\n",
       " array([0.        , 0.07940432, 0.15880865, 0.23821297, 0.31761729,\n",
       "        0.39702162, 0.47642594, 0.55583026, 0.63523459, 0.71463891,\n",
       "        0.79404323]),\n",
       " <a list of 10 Patch objects>)"
      ]
     },
     "execution_count": 131,
     "metadata": {},
     "output_type": "execute_result"
    },
    {
     "data": {
      "image/png": "[encoded data removed]",
      "text/plain": [
       "<Figure size 432x288 with 1 Axes>"
      ]
     },
     "metadata": {
      "needs_background": "light"
     },
     "output_type": "display_data"
    }
   ],
   "source": [
    "g3 = calculate_g(1999)\n",
    "hist(g3, density=True)"
   ]
  },
  {
   "cell_type": "code",
   "execution_count": 139,
   "metadata": {},
   "outputs": [
    {
     "data": {
      "text/plain": [
       "0.7940432327273385"
      ]
     },
     "execution_count": 139,
     "metadata": {},
     "output_type": "execute_result"
    }
   ],
   "source": [
    "g3.max()"
   ]
  },
  {
   "cell_type": "code",
   "execution_count": 132,
   "metadata": {},
   "outputs": [],
   "source": [
    "def fit_g(treated_year, g_model):\n",
    "    sub_merged = basic_merged.copy()\n",
    "    sub_merged = sub_merged[(sub_merged[\"group\"] == treated_year) | (sub_merged[\"group\"] == 1000000)]\n",
    "    \n",
    "    treatment_bin = {treated_year: 1, 1000000: 0}\n",
    "    sub_merged.group = [treatment_bin[item] for item in sub_merged.group]\n",
    "    sub_merged = sub_merged.reset_index()\n",
    "    \n",
    "    treatment = sub_merged[\"group\"]\n",
    "    confounders = sub_merged[list_of_confounders]\n",
    "    \n",
    "    x_train, x_test, a_train, a_test = train_test_split(confounders, treatment, test_size=0.2)\n",
    "    g_model.fit(x_train, a_train)\n",
    "    a_pred = g_model.predict_proba(x_test)[:,1]\n",
    "    \n",
    "    test_ce=log_loss(a_test, a_pred)\n",
    "    baseline_ce=log_loss(a_test, a_train.mean()*np.ones_like(a_test))\n",
    "    score = g_model.score(x_test,a_test)\n",
    "    \n",
    "    return test_ce, baseline_ce, score"
   ]
  },
  {
   "cell_type": "code",
   "execution_count": 145,
   "metadata": {},
   "outputs": [],
   "source": [
    "from sklearn.neighbors import KNeighborsClassifier\n",
    "from sklearn import linear_model\n",
    "from sklearn.ensemble import ExtraTreesClassifier\n",
    "from sklearn.neural_network import MLPClassifier\n",
    "\n",
    "Rf_depth_2 = RandomForestClassifier(n_estimators=100, max_depth=2)\n",
    "Rf_depth_10 = RandomForestClassifier(n_estimators=100, max_depth=10)\n",
    "KNN = KNeighborsClassifier()\n",
    "LogReg = linear_model.LogisticRegression(multi_class='ovr', solver='liblinear')\n",
    "XGBoost = sklearn.ensemble.GradientBoostingClassifier()\n",
    "\n",
    "models = [Rf_depth_2, Rf_depth_10, KNN, LogReg, XGBoost]"
   ]
  },
  {
   "cell_type": "code",
   "execution_count": 146,
   "metadata": {},
   "outputs": [],
   "source": [
    "def fit_year(treated_year, models):\n",
    "    fit_stat = pd.DataFrame()\n",
    "    model_lst = [\"Rf_depth2\", \"RF_depth10\", \"KNN\", \"LogReg\", \"XGBoost\"]\n",
    "    g_ce = []\n",
    "    score = []\n",
    "    baseline = []\n",
    "\n",
    "    for model in models:\n",
    "        x, y, z = fit_g(treated_year, model)\n",
    "        g_ce.append(x)\n",
    "        baseline.append(y)\n",
    "        score.append(z)\n",
    "\n",
    "    fit_stat[\"model\"] = model_lst\n",
    "    fit_stat[\"g_ce\"] = g_ce\n",
    "    fit_stat[\"baseline_ce\"] = baseline\n",
    "    fit_stat[\"accuracy_score\"] = score\n",
    "\n",
    "    return fit_stat"
   ]
  },
  {
   "cell_type": "code",
   "execution_count": 147,
   "metadata": {},
   "outputs": [
    {
     "data": {
      "text/html": [
       "<div>\n",
       "<style scoped>\n",
       "    .dataframe tbody tr th:only-of-type {\n",
       "        vertical-align: middle;\n",
       "    }\n",
       "\n",
       "    .dataframe tbody tr th {\n",
       "        vertical-align: top;\n",
       "    }\n",
       "\n",
       "    .dataframe thead th {\n",
       "        text-align: right;\n",
       "    }\n",
       "</style>\n",
       "<table border=\"1\" class=\"dataframe\">\n",
       "  <thead>\n",
       "    <tr style=\"text-align: right;\">\n",
       "      <th></th>\n",
       "      <th>model</th>\n",
       "      <th>g_ce</th>\n",
       "      <th>baseline_ce</th>\n",
       "      <th>accuracy_score</th>\n",
       "    </tr>\n",
       "  </thead>\n",
       "  <tbody>\n",
       "    <tr>\n",
       "      <td>0</td>\n",
       "      <td>Rf_depth2</td>\n",
       "      <td>0.283902</td>\n",
       "      <td>0.346638</td>\n",
       "      <td>0.889951</td>\n",
       "    </tr>\n",
       "    <tr>\n",
       "      <td>1</td>\n",
       "      <td>RF_depth10</td>\n",
       "      <td>0.213491</td>\n",
       "      <td>0.350360</td>\n",
       "      <td>0.906568</td>\n",
       "    </tr>\n",
       "    <tr>\n",
       "      <td>2</td>\n",
       "      <td>KNN</td>\n",
       "      <td>1.000770</td>\n",
       "      <td>0.351579</td>\n",
       "      <td>0.885347</td>\n",
       "    </tr>\n",
       "    <tr>\n",
       "      <td>3</td>\n",
       "      <td>LogReg</td>\n",
       "      <td>0.229034</td>\n",
       "      <td>0.351236</td>\n",
       "      <td>0.899121</td>\n",
       "    </tr>\n",
       "    <tr>\n",
       "      <td>4</td>\n",
       "      <td>XGBoost</td>\n",
       "      <td>0.216690</td>\n",
       "      <td>0.355592</td>\n",
       "      <td>0.904404</td>\n",
       "    </tr>\n",
       "  </tbody>\n",
       "</table>\n",
       "</div>"
      ],
      "text/plain": [
       "        model      g_ce  baseline_ce  accuracy_score\n",
       "0   Rf_depth2  0.283902     0.346638        0.889951\n",
       "1  RF_depth10  0.213491     0.350360        0.906568\n",
       "2         KNN  1.000770     0.351579        0.885347\n",
       "3      LogReg  0.229034     0.351236        0.899121\n",
       "4     XGBoost  0.216690     0.355592        0.904404"
      ]
     },
     "execution_count": 147,
     "metadata": {},
     "output_type": "execute_result"
    }
   ],
   "source": [
    "fit_year(1997, models)"
   ]
  },
  {
   "cell_type": "code",
   "execution_count": 152,
   "metadata": {},
   "outputs": [
    {
     "data": {
      "text/html": [
       "<div>\n",
       "<style scoped>\n",
       "    .dataframe tbody tr th:only-of-type {\n",
       "        vertical-align: middle;\n",
       "    }\n",
       "\n",
       "    .dataframe tbody tr th {\n",
       "        vertical-align: top;\n",
       "    }\n",
       "\n",
       "    .dataframe thead th {\n",
       "        text-align: right;\n",
       "    }\n",
       "</style>\n",
       "<table border=\"1\" class=\"dataframe\">\n",
       "  <thead>\n",
       "    <tr style=\"text-align: right;\">\n",
       "      <th></th>\n",
       "      <th>model</th>\n",
       "      <th>g_ce</th>\n",
       "      <th>baseline_ce</th>\n",
       "      <th>accuracy_score</th>\n",
       "    </tr>\n",
       "  </thead>\n",
       "  <tbody>\n",
       "    <tr>\n",
       "      <td>0</td>\n",
       "      <td>Rf_depth2</td>\n",
       "      <td>0.490039</td>\n",
       "      <td>0.657313</td>\n",
       "      <td>0.858471</td>\n",
       "    </tr>\n",
       "    <tr>\n",
       "      <td>1</td>\n",
       "      <td>RF_depth10</td>\n",
       "      <td>0.355860</td>\n",
       "      <td>0.656842</td>\n",
       "      <td>0.859441</td>\n",
       "    </tr>\n",
       "    <tr>\n",
       "      <td>2</td>\n",
       "      <td>KNN</td>\n",
       "      <td>1.987765</td>\n",
       "      <td>0.656444</td>\n",
       "      <td>0.832026</td>\n",
       "    </tr>\n",
       "    <tr>\n",
       "      <td>3</td>\n",
       "      <td>LogReg</td>\n",
       "      <td>0.384775</td>\n",
       "      <td>0.656214</td>\n",
       "      <td>0.855249</td>\n",
       "    </tr>\n",
       "    <tr>\n",
       "      <td>4</td>\n",
       "      <td>XGBoost</td>\n",
       "      <td>0.360150</td>\n",
       "      <td>0.658627</td>\n",
       "      <td>0.856363</td>\n",
       "    </tr>\n",
       "  </tbody>\n",
       "</table>\n",
       "</div>"
      ],
      "text/plain": [
       "        model      g_ce  baseline_ce  accuracy_score\n",
       "0   Rf_depth2  0.490039     0.657313        0.858471\n",
       "1  RF_depth10  0.355860     0.656842        0.859441\n",
       "2         KNN  1.987765     0.656444        0.832026\n",
       "3      LogReg  0.384775     0.656214        0.855249\n",
       "4     XGBoost  0.360150     0.658627        0.856363"
      ]
     },
     "execution_count": 152,
     "metadata": {},
     "output_type": "execute_result"
    }
   ],
   "source": [
    "fit_year(1998, models)"
   ]
  },
  {
   "cell_type": "code",
   "execution_count": 153,
   "metadata": {},
   "outputs": [
    {
     "data": {
      "text/html": [
       "<div>\n",
       "<style scoped>\n",
       "    .dataframe tbody tr th:only-of-type {\n",
       "        vertical-align: middle;\n",
       "    }\n",
       "\n",
       "    .dataframe tbody tr th {\n",
       "        vertical-align: top;\n",
       "    }\n",
       "\n",
       "    .dataframe thead th {\n",
       "        text-align: right;\n",
       "    }\n",
       "</style>\n",
       "<table border=\"1\" class=\"dataframe\">\n",
       "  <thead>\n",
       "    <tr style=\"text-align: right;\">\n",
       "      <th></th>\n",
       "      <th>model</th>\n",
       "      <th>g_ce</th>\n",
       "      <th>baseline_ce</th>\n",
       "      <th>accuracy_score</th>\n",
       "    </tr>\n",
       "  </thead>\n",
       "  <tbody>\n",
       "    <tr>\n",
       "      <td>0</td>\n",
       "      <td>Rf_depth2</td>\n",
       "      <td>0.365156</td>\n",
       "      <td>0.448285</td>\n",
       "      <td>0.834745</td>\n",
       "    </tr>\n",
       "    <tr>\n",
       "      <td>1</td>\n",
       "      <td>RF_depth10</td>\n",
       "      <td>0.260663</td>\n",
       "      <td>0.447528</td>\n",
       "      <td>0.882643</td>\n",
       "    </tr>\n",
       "    <tr>\n",
       "      <td>2</td>\n",
       "      <td>KNN</td>\n",
       "      <td>1.270768</td>\n",
       "      <td>0.447023</td>\n",
       "      <td>0.872863</td>\n",
       "    </tr>\n",
       "    <tr>\n",
       "      <td>3</td>\n",
       "      <td>LogReg</td>\n",
       "      <td>0.280128</td>\n",
       "      <td>0.449212</td>\n",
       "      <td>0.879832</td>\n",
       "    </tr>\n",
       "    <tr>\n",
       "      <td>4</td>\n",
       "      <td>XGBoost</td>\n",
       "      <td>0.261032</td>\n",
       "      <td>0.447275</td>\n",
       "      <td>0.881556</td>\n",
       "    </tr>\n",
       "  </tbody>\n",
       "</table>\n",
       "</div>"
      ],
      "text/plain": [
       "        model      g_ce  baseline_ce  accuracy_score\n",
       "0   Rf_depth2  0.365156     0.448285        0.834745\n",
       "1  RF_depth10  0.260663     0.447528        0.882643\n",
       "2         KNN  1.270768     0.447023        0.872863\n",
       "3      LogReg  0.280128     0.449212        0.879832\n",
       "4     XGBoost  0.261032     0.447275        0.881556"
      ]
     },
     "execution_count": 153,
     "metadata": {},
     "output_type": "execute_result"
    }
   ],
   "source": [
    "fit_year(1999, models)"
   ]
  },
  {
   "cell_type": "code",
   "execution_count": null,
   "metadata": {},
   "outputs": [],
   "source": []
  }
 ],
 "metadata": {
  "kernelspec": {
   "display_name": "Python 3",
   "language": "python",
   "name": "python3"
  },
  "language_info": {
   "codemirror_mode": {
    "name": "ipython",
    "version": 3
   },
   "file_extension": ".py",
   "mimetype": "text/x-python",
   "name": "python",
   "nbconvert_exporter": "python",
   "pygments_lexer": "ipython3",
   "version": "3.7.4"
  }
 },
 "nbformat": 4,
 "nbformat_minor": 2
}
