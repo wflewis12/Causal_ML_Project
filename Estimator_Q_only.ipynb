{
 "cells": [
  {
   "cell_type": "markdown",
   "metadata": {},
   "source": [
    "Importing Packages And Basic Set up"
   ]
  },
  {
   "cell_type": "code",
   "execution_count": 24,
   "metadata": {},
   "outputs": [],
   "source": [
    "#.venv/scripts/activate  ; no source. \n",
    "from matplotlib import pyplot as plt\n",
    "from sklearn.model_selection import train_test_split\n",
    "from sklearn.ensemble import RandomForestClassifier\n",
    "from sklearn.ensemble import AdaBoostClassifier\n",
    "from sklearn.ensemble import GradientBoostingClassifier\n",
    "from sklearn.linear_model import RidgeClassifier\n",
    "from xgboost import XGBClassifier\n",
    "from sklearn.ensemble import ExtraTreesClassifier\n",
    "from sklearn.neural_network import MLPClassifier\n",
    "from sklearn.model_selection import KFold, StratifiedKFold, train_test_split\n",
    "from sklearn.metrics import mean_squared_error, log_loss\n",
    "from sklearn.preprocessing import StandardScaler  \n",
    "from plotnine import *\n",
    "\n",
    "import numpy as np\n",
    "import pandas as pd\n",
    "\n",
    "np.random.seed(23)"
   ]
  },
  {
   "cell_type": "markdown",
   "metadata": {},
   "source": [
    "Importing Datasets"
   ]
  },
  {
   "cell_type": "code",
   "execution_count": 25,
   "metadata": {},
   "outputs": [],
   "source": [
    "# Importing maindata\n",
    "\n",
    "file_path = \"C://Users/miste/Documents/Causal_ML/\"\n",
    "\n",
    "x = pd.read_stata(file_path + \"maindata.dta\", convert_categoricals=False)\n",
    "\n",
    "# Importing laws_csv, cleaning it\n",
    "laws_csv = pd.read_csv(\"When_Were_Laws.csv\")\n",
    "laws_csv = laws_csv[np.logical_not(np.isnan(laws_csv[\"FIPS\"]))]  # FIPS codes identify states\n",
    "laws_csv = laws_csv.drop(\"State_Name\", axis=1)  # Dropping as useless\n",
    "laws_csv = laws_csv.rename({'FIPS': 'stfips'}, axis=1) \n",
    "\n",
    "# Merging\n",
    "merged = pd.merge(laws_csv, x, on='stfips', how='outer')"
   ]
  },
  {
   "cell_type": "markdown",
   "metadata": {},
   "source": [
    "Cleaning Datasets, only interested in the 1997 states. "
   ]
  },
  {
   "cell_type": "code",
   "execution_count": 26,
   "metadata": {},
   "outputs": [],
   "source": [
    "basic_merged = merged.copy()  # To allow for re-running \n",
    "\n",
    "basic_merged = basic_merged[basic_merged[\"a_age\"] <= 25]  # Can be changed later, but for now useful I think\n",
    "#age_subset = np.logical_and(np.greater_equal(basic_merged[\"a_age\"],18), np.greater_equal(19,basic_merged[\"a_age\"]))\n",
    "# 17 <= age <= 21 (maybe should be like 22)\n",
    "#basic_merged = basic_merged[age_subset]\n",
    "#print(basic_merged.shape)\n",
    "\n",
    "# Dropping states who were treated < 97 (i.e. they always had programs)\n",
    "# This is following Callaway + Sant'anna, as we cannot meaningfully \n",
    "# do any inference using those states. Although we can compare them later as a \n",
    "# robustness check, which may be interesting\n",
    "basic_merged = basic_merged[basic_merged[\"Year_Implemented\"].str.contains(\"always\")==False]  \n",
    "\n",
    "# I also drop the never states, as they may be substantively different from others, although this can be relaxed later.\n",
    "basic_merged = basic_merged.replace(\"never\", \"1000000\") \n",
    "basic_merged[\"Year_Implemented\"] = basic_merged[\"Year_Implemented\"].astype(int)  # converting to intbasic_merged = basic_merged[basic_merged[\"Year_Implemented\"].str.contains(\"never\")==False]  # Only want to look at one for now. \n",
    "\n",
    "# As we are treating >19 as the never-treated group, we set their year implemented as 1000000 >> 1999\n",
    "year_implemented_vector = basic_merged[\"Year_Implemented\"].copy()\n",
    "year_implemented_vector[basic_merged[\"under19\"] == 0] = 1000000\n",
    "basic_merged[\"group\"] = year_implemented_vector  # Equals the year you were first treated. If >=19 then treated at t = infty\n",
    "\n",
    "# Generating list of confounders of interest, these are not necessarily optimal. \n",
    "list_of_confounders = [\"year\", \"fownu18\", \"faminctm1\", \"a_maritl\", \"female\" , \"fpovcut\", \"povll\"]#, \"stfips\"]\n",
    "list_of_confounders += [\"anykids\", \"disability\", \"collgrad\", \"hsgrad\"] # coll + hs are extra for now. "
   ]
  },
  {
   "cell_type": "markdown",
   "metadata": {},
   "source": [
    "$\\underline{\\bold{\\text{Estimating causal effect}}}$"
   ]
  },
  {
   "cell_type": "markdown",
   "metadata": {},
   "source": [
    "Subsetting data"
   ]
  },
  {
   "cell_type": "markdown",
   "metadata": {},
   "source": [
    "Fitting Model"
   ]
  },
  {
   "cell_type": "code",
   "execution_count": 27,
   "metadata": {},
   "outputs": [],
   "source": [
    "def outcome_k_fold_fit_and_predict(make_model, X:pd.DataFrame, y:np.array, A:np.array, n_splits:int, year_of_interest:int):\n",
    "    '''\n",
    "    Implements K fold cross-fitting for the model predicting the outcome Y. \n",
    "    That is, \n",
    "    1. Split data into K folds\n",
    "    2. For each fold j, the model is fit on the other K-1 folds\n",
    "    3. The fitted model is used to make predictions for each set of covariates in fold j\n",
    "    3b. Each set of covariates is fitted for each combination of year x treatment\n",
    "    4. We return a matrix which contains those predictions as columns (each column is one combinatino of year x treatment)\n",
    "    5. We also return vectors which indicate the true year/treatment status for that particular set of covariates\n",
    "    \n",
    "\n",
    "    Args:\n",
    "    model: function that returns sklearn model (that implements fit and either predict_prob or predict)\n",
    "    X: dataframe of variables to adjust for\n",
    "    y: array of outcomes\n",
    "    A: array of treatments\n",
    "    n_splits: number of splits to use\n",
    "    year_of_interest: year that treatment occured\n",
    "    '''\n",
    "    # Setting up prediction vectors\n",
    "    # the 2*i'th column is year `i` with treatment = 0\n",
    "    # the (2*i)+1'th column is year `i` with treatment = 1\n",
    "    # As we predict for 18 years, there are 36 columns. \n",
    "\n",
    "    predictions_matrix = np.empty(shape=(y.shape[0], 36))\n",
    "\n",
    "    # k-folding\n",
    "    kf = StratifiedKFold(n_splits=n_splits, shuffle=True, random_state=42)\n",
    "\n",
    "    # include the treatment as input feature\n",
    "    X_w_treatment = X.copy()\n",
    "    X_w_treatment[\"A\"] = A\n",
    "\n",
    "    # Generating vectors which will contain the true treatment/year combination for each covariate. \n",
    "    year_vec = np.full_like(X_w_treatment[\"year\"], np.nan, dtype=float)\n",
    "    treat_vec = np.full_like(X_w_treatment[\"year\"], np.nan, dtype=float)\n",
    "\n",
    "    for train_index, test_index in kf.split(X_w_treatment, y):\n",
    "        X_train = X_w_treatment.loc[train_index]\n",
    "        y_train = y.loc[train_index]\n",
    "        q = make_model()\n",
    "        q.fit(X_train, y_train)\n",
    "\n",
    "        # This saves the vector of years so we only get the att for the 1997 group\n",
    "        year_vec[test_index] =  X_w_treatment[\"year\"].loc[test_index]\n",
    "\n",
    "        # This saves the vector of treated statuses, as we want to condition on A = 1 (we want ATT, not ATE)\n",
    "        treat_vec[test_index] = A.loc[test_index]\n",
    "\n",
    "        for j in range(1991, 2009):\n",
    "            X0 = X_w_treatment.copy()\n",
    "            X0[\"A\"] = 1000000  # Never treated units. \n",
    "            X0[\"year\"] = j # Changing the year to the year of interest\n",
    "            col_num = 2*(j - 1991)  # Which column the data should go in\n",
    "            predictions_matrix[test_index,col_num] = q.predict_proba(X0.loc[test_index])[:, 1]\n",
    "        for j in range(1991,2009):\n",
    "            X1 = X_w_treatment.copy() \n",
    "            # We do not adjust the year here, as we are only interested in their actual treatment status\n",
    "            # That means we don't need to change it, as it is already how we want it. \n",
    "            X1[\"year\"] = j # Changing the year to the year of interest\n",
    "            col_num = 2*(j - 1991) + 1  # Which column the data should go in\n",
    "            predictions_matrix[test_index,col_num] = q.predict_proba(X1.loc[test_index])[:, 1]\n",
    "\n",
    "    assert np.isnan(predictions_matrix).sum() == 0  # Sanity check that we have no missings\n",
    "    return predictions_matrix, year_vec, treat_vec"
   ]
  },
  {
   "cell_type": "markdown",
   "metadata": {},
   "source": [
    "Define models to Use"
   ]
  },
  {
   "cell_type": "code",
   "execution_count": 28,
   "metadata": {},
   "outputs": [],
   "source": [
    "# Works the best\n",
    "def make_Q_model():\n",
    "    ''' A function that returns a general ML q model for later use in k-folding'''\n",
    "    return XGBClassifier()\n",
    "    #return RandomForestClassifier(random_state=42, n_estimators=100, max_depth=5)\n",
    "\n",
    "def make_G_model():\n",
    "    return RandomForestClassifier(random_state=42, n_estimators=100, max_depth=2) \n",
    "    #return MLPClassifier(hidden_layer_sizes=(15,),solver=\"adam\")"
   ]
  },
  {
   "cell_type": "markdown",
   "metadata": {},
   "source": [
    "Estimating the ATT's\n"
   ]
  },
  {
   "cell_type": "code",
   "execution_count": 29,
   "metadata": {},
   "outputs": [],
   "source": [
    "def ATT_event_study(year_of_interest:int, response:str, confounder_list:list, dataframe:pd.DataFrame, G_model, Q_model):\n",
    "    '''\n",
    "    Estimates ATT(g,t) for the combinations of g,t which we are interested in. \n",
    "\n",
    "    Based on Callaway & Sant'anna, we compute ATT(g,t) over time\n",
    "\n",
    "    We say that ATT(g,t) is the ATT for group g at time `t`\n",
    "    We compare the outcomes at time `t` to a base date, which we refer to as g_d_1\n",
    "    \n",
    "    If time `t` occurs >= treatment_year (i.e. when treatment first occurs), then g_d_1 = treatment_year - 1\n",
    "    Otherwise, we say that g_d_1 = t - 1\n",
    "\n",
    "    For intuition, if t >= treatment_year, we are looking at the DiD comparing outcomes at time `t` to \n",
    "    those which were immediately before treatment. If t < treatment_year, then we are performing a robustness check.\n",
    "    That robustness check involves pretending that treatment occured at time t, and comparing it to the previous period's outcomes. \n",
    "\n",
    "    For each g,t of interest, we compute:\n",
    "\n",
    "    ATT(g,t) = E(G_g/E(G_g) * (m_treat_1(X) - m_treat_0(X) - (m_nev_1(X) - m_nev_0(X))))\n",
    "\n",
    "    m_treat_i(X) = prediction for the outcome for an individual with covariates `X` in year `t` who recieved treatment = `i`\n",
    "    m_nev_i(X)   = prediction for the outcome for an individual with covariates `X` in year `g_d_1` who recieved treatment = `i`\n",
    "\n",
    "    We also compute standard errors, and return the ATT(g,t) + standard errors as two different lists. \n",
    "\n",
    "    stfips: the FIPS codes for the states of interest\n",
    "    year_of_interest: the year at which treatment first occurs\n",
    "    response: which outcome we are interested in, out of public/private/all insurance. \n",
    "    confounder_list: list of columns of dataframe to use as confounders\n",
    "    dataframe: dataframe to get data from\n",
    "    model: machine learning ensemble model to use as the Q model\n",
    "    '''\n",
    "    # We don't subset here, as we want to fit on all data. \n",
    "    #state_level = dataframe.loc[dataframe['stfips'].isin(stfips),:] # Subset for states of interest\n",
    "    results_df = {}\n",
    "    state_level = dataframe.copy()\n",
    "    state_level = state_level[confounder_list+ [\"group\", response]]  # Subsetting for features of interest\n",
    "\n",
    "    # Drop missings, only needed for some models, \n",
    "    state_level = state_level.dropna(axis = 0)\n",
    "\n",
    "    # Setting up \n",
    "    state_level = state_level.reset_index(drop=True)\n",
    "    confounders = state_level[list_of_confounders]\n",
    "    treatment = state_level[\"group\"]\n",
    "    outcome = state_level[response]\n",
    "\n",
    "    predictions_matrix, year_vec, treat_vec = outcome_k_fold_fit_and_predict(Q_model, \\\n",
    "                                       X=confounders, y=outcome, A=treatment, n_splits=5, \\\n",
    "                                        year_of_interest=year_of_interest)\n",
    "                                        \n",
    "    G_g_and_C = np.logical_or(np.equal(treat_vec,year_of_interest), np.equal(treat_vec,1000000))\n",
    "\n",
    "    predictions_matrix = predictions_matrix[G_g_and_C,:]\n",
    "    year_vec = year_vec[G_g_and_C]\n",
    "    treat_vec = treat_vec[G_g_and_C]\n",
    "    outcome = outcome[G_g_and_C]\n",
    "\n",
    "                                                \n",
    "    # Weight on the first term. \n",
    "    # This depends only on g so we can pull it out here\n",
    "    w_g = (treat_vec == year_of_interest) #* (year_vec == year) # We only want the ATT, so we weight appropriately\n",
    "                                                # to only look at the untils treated at t=1\n",
    "    w_g = w_g / np.mean(w_g) # To ensure mean of the weights is 1, weights are >= 0 by construction\n",
    "    \n",
    "    for i in range(1,18): # we look at the ATT for 1992-2008 (cannot look at 1991 as we have no 1990 data)\n",
    "        year = i + 1991 # What actual year we are looking at in the for loop\n",
    "        # Generating term 1:\n",
    "        m_treat_1 = predictions_matrix[:,(2*i)+1]  # m_treat_1 \n",
    "        m_nev_1 = predictions_matrix[:,(2*i)]  # m_nev_1\n",
    "        if year >= year_of_interest: # If we've gotten to the treatment year \n",
    "            m_treat_0 = predictions_matrix[:,(2*(year_of_interest-1991))-1]  # m_treat_0\n",
    "            m_nev_0 = predictions_matrix[:,(2*(year_of_interest-1991))-2]  # m_nev_0\n",
    "        else:  # otherwise we do a short difference. \n",
    "            m_treat_0 = predictions_matrix[:,(2*i)-1]  # m_treat_0\n",
    "            m_nev_0 = predictions_matrix[:,(2*i)-2]  # m_nev_0\n",
    "        term_1 = w_g * (m_treat_1 - m_treat_0 - (m_nev_1 - m_nev_0))  \n",
    "        final = term_1\n",
    "        mean = np.mean(final) * 100\n",
    "\n",
    "        # Influence curve \n",
    "        phi = final - np.mean(final) * (treat_vec == year_of_interest)\n",
    "\n",
    "        # Computing standard errors\n",
    "        ste = np.std(phi) * 100 / np.sqrt(term_1.shape[0])\n",
    "\n",
    "        results_df.setdefault('year',[]).append(i + 1991)\n",
    "        results_df.setdefault('att',[]).append(mean)\n",
    "        results_df.setdefault('std',[]).append(ste)\n",
    "        results_df.setdefault('q_model',[]).append(Q_model.__name__ )\n",
    "        results_df.setdefault('g_model',[]).append(G_model.__name__ )\n",
    "        results_df.setdefault('response',[]).append(response)\n",
    "        results_df.setdefault('treat_year',[]).append(year_of_interest)\n",
    "    \n",
    "    results_df = pd.DataFrame(results_df)\n",
    "\n",
    "    return results_df"
   ]
  },
  {
   "cell_type": "code",
   "execution_count": 30,
   "metadata": {},
   "outputs": [],
   "source": [
    "# Get all states which implemented programs in that year\n",
    "plot_year = 1997\n",
    "\n",
    "new_year = ATT_event_study(plot_year, \"pubonly\", list_of_confounders, basic_merged, make_G_model,make_Q_model)\n",
    "\n",
    "all_years = new_year"
   ]
  },
  {
   "cell_type": "code",
   "execution_count": 31,
   "metadata": {},
   "outputs": [
    {
     "name": "stdout",
     "output_type": "stream",
     "text": [
      "[0.15797797 0.17594931 0.2223221  0.35995426 0.00100485]\n",
      "[0.00767482 0.00571315 0.00855904 0.00990619 0.00209233]\n"
     ]
    },
    {
     "data": {
      "image/png": "[encoded data removed]",
      "text/plain": [
       "<Figure size 640x480 with 1 Axes>"
      ]
     },
     "metadata": {},
     "output_type": "display_data"
    }
   ],
   "source": [
    "# Plotnine code to make plot for pre-treatment effects\n",
    "pre_treat = all_years[(all_years[\"year\"] < plot_year) & (all_years[\"treat_year\"] != 2006)].copy()\n",
    "\n",
    "#pre_treat[\"treat_year\"] = pre_treat[\"treat_year\"].replace(2006, \"Never Implemented\")\n",
    "\n",
    "x = np.arange(1992-plot_year, 0, 1) \n",
    "plt.plot(x, pre_treat[pre_treat[\"treat_year\"]==plot_year][\"att\"], label= \"g = \"+ str(plot_year))\n",
    "mean_list = np.array(pre_treat[pre_treat[\"treat_year\"]==plot_year][\"att\"])\n",
    "ste_list = np.array(pre_treat[pre_treat[\"treat_year\"]==plot_year][\"std\"])\n",
    "print(mean_list)\n",
    "print(ste_list)\n",
    "\n",
    "for i in range(len(mean_list)):\n",
    "    plt.errorbar(x=i + 1992 - plot_year, y=mean_list[i], yerr=ste_list[i], \\\n",
    "                 color=\"black\", capsize=3, linestyle=\"None\",\\\n",
    "                marker=\"s\", markersize=7, mfc=\"black\", mec=\"black\")\n",
    "#x = np.arange(-6, -1, 1) \n",
    "#plt.plot(x, pre_treat[pre_treat[\"treat_year\"]==1998][\"att\"], label= \"g = 1998\")\n",
    "#x = np.arange(-6, -1, 1) \n",
    "#plt.plot(x, pre_treat[pre_treat[\"treat_year\"]==1999][\"att\"], label= \"g = 1999\")\n",
    "plt.axhline(y = 0, color = 'k', linestyle = \"dashed\")  \n",
    "plt.title(\"Testing Pre-Trends:\" +str(plot_year) )\n",
    "plt.show()"
   ]
  },
  {
   "cell_type": "code",
   "execution_count": 32,
   "metadata": {},
   "outputs": [
    {
     "data": {
      "image/png": "[encoded data removed]",
      "text/plain": [
       "<Figure size 640x480 with 1 Axes>"
      ]
     },
     "metadata": {},
     "output_type": "display_data"
    }
   ],
   "source": [
    "post_treat = all_years[(all_years[\"year\"] >= plot_year) & (all_years[\"treat_year\"] != 2006)].copy()\n",
    "\n",
    "#post_treat[\"treat_year\"] = post_treat[\"treat_year\"].replace(2006, \"Never Implemented\")\n",
    "\n",
    "x = np.arange(1, 2010-plot_year, 1) \n",
    "plt.plot(x, post_treat[post_treat[\"treat_year\"]==plot_year][\"att\"], label= \"g = \" +str(plot_year))\n",
    "\n",
    "mean_list = np.array(post_treat[post_treat[\"treat_year\"]==plot_year][\"att\"])\n",
    "ste_list = np.array(post_treat[post_treat[\"treat_year\"]==plot_year][\"std\"])\n",
    "\n",
    "\n",
    "for i in range(1,2009-plot_year ):\n",
    "    plt.errorbar(x=i, y=mean_list[i-1], yerr=ste_list[i-1], \\\n",
    "                 color=\"black\", capsize=3, linestyle=\"None\",\\\n",
    "                marker=\"s\", markersize=7, mfc=\"black\", mec=\"black\")\n",
    "\n",
    "plt.axhline(y = 0, color = 'k', linestyle = \"dashed\")  \n",
    "plt.title(\"ATT(g,t), g = \" + str(plot_year))\n",
    "plt.show()"
   ]
  }
 ],
 "metadata": {
  "kernelspec": {
   "display_name": "Python 3.9.7 ('.venv': venv)",
   "language": "python",
   "name": "python3"
  },
  "language_info": {
   "codemirror_mode": {
    "name": "ipython",
    "version": 3
   },
   "file_extension": ".py",
   "mimetype": "text/x-python",
   "name": "python",
   "nbconvert_exporter": "python",
   "pygments_lexer": "ipython3",
   "version": "3.9.7"
  },
  "orig_nbformat": 4,
  "vscode": {
   "interpreter": {
    "hash": "e1117a3f67b6f9f07c9cd111c1d164c2c78fdaed6c7ec8e557fb0bc2f3980f47"
   }
  }
 },
 "nbformat": 4,
 "nbformat_minor": 2
}
