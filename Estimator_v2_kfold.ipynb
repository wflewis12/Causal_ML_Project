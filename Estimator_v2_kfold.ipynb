{
 "cells": [
  {
   "cell_type": "markdown",
   "metadata": {},
   "source": [
    "Importing Packages And Basic Set up"
   ]
  },
  {
   "cell_type": "code",
   "execution_count": 418,
   "metadata": {},
   "outputs": [],
   "source": [
    "#.venv/scripts/activate  ; no source. \n",
    "from matplotlib import pyplot as plt\n",
    "from sklearn.model_selection import train_test_split\n",
    "from sklearn.ensemble import RandomForestClassifier\n",
    "from sklearn.model_selection import KFold, StratifiedKFold, train_test_split\n",
    "from sklearn.metrics import mean_squared_error, log_loss\n",
    "\n",
    "import numpy as np\n",
    "import pandas as pd"
   ]
  },
  {
   "cell_type": "markdown",
   "metadata": {},
   "source": [
    "Importing Datasets"
   ]
  },
  {
   "cell_type": "code",
   "execution_count": 419,
   "metadata": {},
   "outputs": [],
   "source": [
    "# Importing maindata\n",
    "file_path = \"C://Users/miste/Documents/Causal_ML/\"\n",
    "x = pd.read_stata(file_path + \"maindata.dta\", convert_categoricals=False)\n",
    "\n",
    "# Importing laws_csv, cleaning it\n",
    "laws_csv = pd.read_csv(file_path + \"When_Were_Laws.csv\")\n",
    "laws_csv = laws_csv[np.logical_not(np.isnan(laws_csv[\"FIPS\"]))]  # FIPS codes identify states\n",
    "laws_csv = laws_csv.drop(\"State_Name\", axis=1)  # Dropping as useless\n",
    "laws_csv = laws_csv.rename({'FIPS': 'stfips'}, axis=1) \n",
    "\n",
    "# Merging\n",
    "merged = pd.merge(laws_csv, x, on='stfips', how='outer')"
   ]
  },
  {
   "cell_type": "markdown",
   "metadata": {},
   "source": [
    "Cleaning Datasets, only interested in the 1997 states. "
   ]
  },
  {
   "cell_type": "code",
   "execution_count": 420,
   "metadata": {},
   "outputs": [],
   "source": [
    "basic_merged = merged.copy()  # To allow for re-running \n",
    "\n",
    "basic_merged = basic_merged[basic_merged[\"a_age\"] <= 25]  # Can be changed later, but for now useful I think\n",
    "\n",
    "# Dropping states who were treated < 97 (i.e. they always had programs)\n",
    "basic_merged = basic_merged[basic_merged[\"Year_Implemented\"].str.contains(\"always\")==False]  \n",
    "\n",
    "# Making it so that \"never-treated\" states are treated at T = infinity\n",
    "basic_merged = basic_merged.replace(\"never\", \"1000000\") \n",
    "basic_merged[\"Year_Implemented\"] = basic_merged[\"Year_Implemented\"].astype(int)  # converting to int\n",
    "\n",
    "\n",
    "# indicator for if treatment has occured in state i\n",
    "basic_merged[\"year_indic\"] = (basic_merged[\"year\"] >= basic_merged[\"Year_Implemented\"]) \n",
    "\n",
    "\n",
    "# Indicator for if the individual was treated (i.e. under 19 and in a state who added a law)\n",
    "basic_merged[\"treatment\"] = basic_merged[\"under19\"] # * basic_merged[\"year_indic\"]\n",
    "\n",
    "\n",
    "# Generating list of confounders of interest, these are not necessarily optimal. \n",
    "list_of_confounders = [\"year\", \"stfips\", \"fownu18\", \"faminctm1\", \"a_maritl\", \"female\" , \"fpovcut\", \"povll\"]\n",
    "list_of_confounders += [\"anykids\", \"disability\", \"noemp_insured\"]"
   ]
  },
  {
   "cell_type": "markdown",
   "metadata": {},
   "source": [
    "$\\underline{\\bold{\\text{Estimating causal effect}}}$"
   ]
  },
  {
   "cell_type": "markdown",
   "metadata": {},
   "source": [
    "Subsetting data"
   ]
  },
  {
   "cell_type": "code",
   "execution_count": 421,
   "metadata": {},
   "outputs": [],
   "source": [
    "# Picking an arbitrary state which implemented in 1997\n",
    "state_level = basic_merged[basic_merged[\"stfips\"] == 9]\n",
    "\n",
    "state_level = state_level[list_of_confounders + [\"under19\", \"treatment\", \"pubonly\", \"insured\", \"privonly\", \"Year_Implemented\"]]\n",
    "\n",
    "treat_year = 1997  # Year the policy was introduced \n",
    "g_d_1 = 1996  # Base year, g - delta - 1, for now let delta = 1 (i.e. they can look one year back)\n",
    "\n",
    "# Drop missings\n",
    "state_level = state_level.dropna(axis = 0)\n",
    "\n",
    "state_level[\"year\"] = state_level[\"year\"] - g_d_1 # Normalizing for interpretability. "
   ]
  },
  {
   "cell_type": "markdown",
   "metadata": {},
   "source": [
    "Fitting Model"
   ]
  },
  {
   "cell_type": "code",
   "execution_count": 422,
   "metadata": {},
   "outputs": [],
   "source": [
    "def outcome_k_fold_fit_and_predict(make_model, X:pd.DataFrame, y:np.array, A:np.array, n_splits:int, output_type:str, y1:int, y0:int):\n",
    "    '''\n",
    "    Implements K fold cross-fitting for the model predicting the outcome Y. \n",
    "    That is, \n",
    "    1. Split data into K folds\n",
    "    2. For each fold j, the model is fit on the other K-1 folds\n",
    "    3. The fitted model is used to make predictions for each data point in fold j\n",
    "    Returns two arrays containing the predictions for all units untreated, all units treated  \n",
    "\n",
    "    Args:\n",
    "    model: function that returns sklearn model (that implements fit and either predict_prob or predict)\n",
    "    X: dataframe of variables to adjust for\n",
    "    y: array of outcomes\n",
    "    A: array of treatments\n",
    "    n_splits: number of splits to use\n",
    "    output_type: type of outcome, \"binary\" or \"continuous\"\n",
    "    '''\n",
    "    # Setting up prediction vectors\n",
    "    predictions0_y1 = np.full_like(y, np.nan, dtype=float)\n",
    "    predictions1_y1 = np.full_like(y, np.nan, dtype=float)\n",
    "    predictions0_y0 = np.full_like(y, np.nan, dtype=float)\n",
    "    predictions1_y0 = np.full_like(y, np.nan, dtype=float)\n",
    "\n",
    "    # k-folding\n",
    "    if output_type == 'binary':\n",
    "        kf = StratifiedKFold(n_splits=n_splits, shuffle=True)\n",
    "    elif output_type == 'continuous':\n",
    "        kf = KFold(n_splits=n_splits, shuffle=True)\n",
    "\n",
    "    # include the treatment as input feature\n",
    "    X_w_treatment = X.copy()\n",
    "    X_w_treatment[\"A\"] = A\n",
    "    # for predicting effect under treatment / control status for each data point\n",
    "    # As we are looking at ATT for those in y1, we subset the data to only look at those data points \n",
    "    X0_y1 = X_w_treatment.copy()\n",
    "    X0_y1[\"A\"] = 0\n",
    "    X0_y1[\"year\"] = y1\n",
    "\n",
    "    X1_y1 = X_w_treatment.copy()\n",
    "    X1_y1[\"A\"] = 1\n",
    "    X1_y1[\"year\"] = y1\n",
    "\n",
    "    X0_y0 = X_w_treatment.copy()\n",
    "    X0_y0[\"A\"] = 0\n",
    "    X0_y0[\"year\"] = y0\n",
    "\n",
    "    X1_y0 = X_w_treatment.copy()\n",
    "    X1_y0[\"A\"] = 1\n",
    "    X1_y0[\"year\"] = y0\n",
    "\n",
    "    year_vec = np.full_like(X_w_treatment[\"year\"], np.nan, dtype=float)\n",
    "    treat_vec = np.full_like(X_w_treatment[\"year\"], np.nan, dtype=float)\n",
    "    for train_index, test_index in kf.split(X_w_treatment, y):\n",
    "        X_train = X_w_treatment.loc[train_index]\n",
    "        y_train = y.loc[train_index]\n",
    "        q = make_model()\n",
    "        q.fit(X_train, y_train)\n",
    "        # This saves the vector of years so we only get the att (ADD IN THINGIE on under19 later)\n",
    "        year_vec[test_index] =  X_w_treatment[\"year\"].loc[test_index]\n",
    "        treat_vec[test_index] = A.loc[test_index]\n",
    "        if output_type =='binary':\n",
    "            predictions0_y1[test_index] = q.predict_proba(X0_y1.loc[test_index])[:, 1]\n",
    "            predictions1_y1[test_index] = q.predict_proba(X1_y1.loc[test_index])[:, 1]\n",
    "            predictions0_y0[test_index] = q.predict_proba(X0_y0.loc[test_index])[:, 1]\n",
    "            predictions1_y0[test_index] = q.predict_proba(X1_y0.loc[test_index])[:, 1]\n",
    "        elif output_type == 'continuous':\n",
    "            predictions0_y1[test_index] = q.predict(X0_y1.loc[test_index])\n",
    "            predictions1_y1[test_index] = q.predict(X1_y1.loc[test_index])\n",
    "            predictions0_y0[test_index] = q.predict(X0_y0.loc[test_index])\n",
    "            predictions1_y0[test_index] = q.predict(X1_y0.loc[test_index])\n",
    "\n",
    "    #assert np.isnan(predictions0_y1).sum() == 0\n",
    "    #assert np.isnan(predictions1_y1).sum() == 0\n",
    "    #assert np.isnan(predictions0_y0).sum() == 0\n",
    "    #assert np.isnan(predictions1_y0).sum() == 0\n",
    "    return predictions1_y1, predictions1_y0, predictions0_y1, predictions0_y0, year_vec, treat_vec\n",
    "\n",
    "from sklearn.linear_model import LogisticRegression\n",
    "from xgboost import XGBClassifier\n",
    "from sklearn.neural_network import MLPClassifier\n",
    "from sklearn.calibration import CalibratedClassifierCV\n",
    "\n",
    "def make_Q_model():\n",
    "    ''' A function that returns a general ML q model for later use in k-folding'''\n",
    "    return RandomForestClassifier(max_depth=None, n_estimators=100)\n",
    "    #return RandomForestClassifier(n_estimators=500, max_depth=None)\n",
    "    #return MLPClassifier(max_iter=300)\n",
    "    #return LogisticRegression()"
   ]
  },
  {
   "cell_type": "markdown",
   "metadata": {},
   "source": [
    "Estimating the ATT's\n"
   ]
  },
  {
   "cell_type": "code",
   "execution_count": 423,
   "metadata": {},
   "outputs": [],
   "source": [
    "mean_list = []  # Will end up being a list of the average ATT's\n",
    "CI_list = []  # Will end up being a list of the confidence intervals \n",
    "\n",
    "for i in range(1992, 2009):  # We compute the ATT for each year\n",
    "    top_year = i - (treat_year - 1)  # Normalizing for interpretability (t = 1 is when treatment occurs)\n",
    "    # This part is from the paper, it says we should use 1996 (t = 0) as the year to compare against for\n",
    "    # any year >= 1997 (should make more if we expect back-looking/anticipation)\n",
    "\n",
    "    # For any year prior to treatment, it says we should compare that year (t = t') to the prior year (t = t' - 1)\n",
    "    if top_year >= 1:\n",
    "        base_year = 0  # This is = g_d_1, the treatment year - 1 - delta (delta = 0, at least at first)\n",
    "    else:\n",
    "        base_year = top_year - 1\n",
    "    \n",
    "    # Setting up \n",
    "    state_level = state_level.reset_index(drop=True)\n",
    "    confounders = state_level[list_of_confounders]\n",
    "    treatment = state_level['treatment']\n",
    "    outcome = state_level['insured']\n",
    "    term_1, term_2, term_3, term_4, year_vec, treat_vec = outcome_k_fold_fit_and_predict(make_Q_model, \\\n",
    "                                        X=confounders, y=outcome, A=treatment,  n_splits=5, \\\n",
    "                                        output_type=\"binary\", y1=top_year, y0=base_year)\n",
    "    weight = (year_vec == top_year) * (treat_vec == 1) # We only want the ATT, so we weight appropriately\n",
    "    weight = weight / np.mean(weight)\n",
    "\n",
    "    final = weight * (term_1 - term_2 - (term_3 - term_4))\n",
    "    # Multiplying by 100 to convert to %\n",
    "    mean_list += [np.mean(final) *100] \n",
    "    CI_list += [np.std(final) / np.sqrt(term_1.shape[0]) * 1.96 * 100 ] # the \".shape\" part is just to get the right n"
   ]
  },
  {
   "cell_type": "code",
   "execution_count": 424,
   "metadata": {},
   "outputs": [
    {
     "data": {
      "image/png": "[encoded data removed]",
      "text/plain": [
       "<Figure size 640x480 with 1 Axes>"
      ]
     },
     "metadata": {},
     "output_type": "display_data"
    }
   ],
   "source": [
    "# Plotting\n",
    "# Treatment occurs at t = 1\n",
    "x = np.arange(1992- g_d_1, 2009-g_d_1, 1)\n",
    "\n",
    "plt.plot(x, mean_list)\n",
    "# Computing the actual CI's -- the thing before was just the radius. \n",
    "#subtracted = [element1 - element2 for (element1, element2) in zip(mean_list, CI_list)]\n",
    "#added = [element1 + element2 for (element1, element2) in zip(mean_list, CI_list)]\n",
    "\n",
    "for i in range(len(mean_list)):\n",
    "    corresponding_year = i + 1992 - g_d_1\n",
    "    plt.errorbar(x=corresponding_year, y=mean_list[i], yerr=CI_list[i], \\\n",
    "                 color=\"black\", capsize=3, linestyle=\"None\",\\\n",
    "                marker=\"s\", markersize=7, mfc=\"black\", mec=\"black\")\n",
    "plt.axvline(x=0, color='b')\n",
    "# Adding in the CI's\n",
    "#plt.fill_between(x, (subtracted), (added), color='blue', alpha=0.1)\n",
    "plt.show() "
   ]
  }
 ],
 "metadata": {
  "kernelspec": {
   "display_name": "Python 3.9.7 ('.venv': venv)",
   "language": "python",
   "name": "python3"
  },
  "language_info": {
   "codemirror_mode": {
    "name": "ipython",
    "version": 3
   },
   "file_extension": ".py",
   "mimetype": "text/x-python",
   "name": "python",
   "nbconvert_exporter": "python",
   "pygments_lexer": "ipython3",
   "version": "3.9.7"
  },
  "orig_nbformat": 4,
  "vscode": {
   "interpreter": {
    "hash": "e1117a3f67b6f9f07c9cd111c1d164c2c78fdaed6c7ec8e557fb0bc2f3980f47"
   }
  }
 },
 "nbformat": 4,
 "nbformat_minor": 2
}
