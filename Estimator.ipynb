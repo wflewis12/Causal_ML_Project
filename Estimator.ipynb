{
 "cells": [
  {
   "cell_type": "markdown",
   "metadata": {},
   "source": [
    "Importing Packages And Basic Set up"
   ]
  },
  {
   "cell_type": "code",
   "execution_count": 15,
   "metadata": {},
   "outputs": [],
   "source": [
    "#.venv/scripts/activate  ; no source. \n",
    "from matplotlib import pyplot as plt\n",
    "from sklearn.model_selection import train_test_split\n",
    "from sklearn.ensemble import RandomForestClassifier\n",
    "\n",
    "import numpy as np\n",
    "import pandas as pd"
   ]
  },
  {
   "cell_type": "markdown",
   "metadata": {},
   "source": [
    "Importing Datasets"
   ]
  },
  {
   "cell_type": "code",
   "execution_count": 16,
   "metadata": {},
   "outputs": [],
   "source": [
    "# Importing maindata\n",
    "file_path = \"C://Users/miste/Documents/Causal_ML/\"\n",
    "x = pd.read_stata(file_path + \"maindata.dta\", convert_categoricals=False)\n",
    "\n",
    "# Importing laws_csv, cleaning it\n",
    "laws_csv = pd.read_csv(file_path + \"When_Were_Laws.csv\")\n",
    "laws_csv = laws_csv[np.logical_not(np.isnan(laws_csv[\"FIPS\"]))]  # FIPS codes identify states\n",
    "laws_csv = laws_csv.drop(\"State_Name\", axis=1)  # Dropping as useless\n",
    "laws_csv = laws_csv.rename({'FIPS': 'stfips'}, axis=1) \n",
    "\n",
    "# Merging\n",
    "merged = pd.merge(laws_csv, x, on='stfips', how='outer')"
   ]
  },
  {
   "cell_type": "markdown",
   "metadata": {},
   "source": [
    "Cleaning Datasets, only interested in the 1997 states. "
   ]
  },
  {
   "cell_type": "code",
   "execution_count": 17,
   "metadata": {},
   "outputs": [],
   "source": [
    "basic_merged = merged.copy()  # To allow for re-running \n",
    "\n",
    "basic_merged = basic_merged[basic_merged[\"a_age\"] <= 25]  # Can be changed later, but for now useful I think\n",
    "\n",
    "# Dropping states who were treated < 97 (i.e. they always had programs)\n",
    "basic_merged = basic_merged[basic_merged[\"Year_Implemented\"].str.contains(\"always\")==False]  \n",
    "\n",
    "# Making it so that \"never-treated\" states are treated at T = infinity\n",
    "basic_merged = basic_merged.replace(\"never\", \"1000000\") \n",
    "basic_merged[\"Year_Implemented\"] = basic_merged[\"Year_Implemented\"].astype(int)  # converting to int\n",
    "\n",
    "\n",
    "# indicator for if treatment has occured in state i\n",
    "basic_merged[\"year_indic\"] = (basic_merged[\"year\"] >= basic_merged[\"Year_Implemented\"]) \n",
    "\n",
    "\n",
    "# Indicator for if the individual was treated (i.e. under 19 and in a state who added a law)\n",
    "basic_merged[\"treatment\"] = basic_merged[\"under19\"] * basic_merged[\"year_indic\"]\n",
    "\n",
    "\n",
    "# Generating list of confounders of interest, these are not necessarily optimal. \n",
    "list_of_confounders = [\"year\", \"stfips\", \"fownu18\", \"faminctm1\", \"a_maritl\", \"female\" , \"fpovcut\", \"povll\"]\n",
    "list_of_confounders += [\"anykids\", \"disability\", \"noemp_insured\"]\n",
    "\n",
    "# Subsetting our dataset to only include the columns we want\n",
    "basic_merged = basic_merged[list_of_confounders + [\"under19\", \"treatment\", \"pubonly\", \"insured\", \"privonly\", \"Year_Implemented\"]]"
   ]
  },
  {
   "cell_type": "markdown",
   "metadata": {},
   "source": [
    "Fitting Q"
   ]
  },
  {
   "cell_type": "markdown",
   "metadata": {},
   "source": [
    "$\\underline{\\bold{\\text{Estimating causal effect}}}$"
   ]
  },
  {
   "cell_type": "markdown",
   "metadata": {},
   "source": [
    "Subsetting data"
   ]
  },
  {
   "cell_type": "code",
   "execution_count": 18,
   "metadata": {},
   "outputs": [],
   "source": [
    "# Picking an arbitrary state which implemented in 1997\n",
    "state_level = basic_merged[basic_merged[\"stfips\"] == 9]\n",
    "\n",
    "top_year = 1997  # Year the policy was introduced \n",
    "base_year = 1996  # Year prior to that\n",
    "\n",
    "\n",
    "# Drop missings\n",
    "state_level = state_level.dropna(axis = 0)\n",
    "state_level[\"year\"] = state_level[\"year\"] - base_year # Normalizing for interpretability. \n",
    "\n",
    "\n",
    "# Setting up matrices with confounders and the treatment\n",
    "confounders_and_treat = state_level[list_of_confounders + [\"treatment\"]]\n",
    "confounders_and_treat = confounders_and_treat.drop(\"stfips\", axis=1)\n",
    "\n",
    "\n",
    "# Matrix which also includes indicator for age\n",
    "con_and_treat_and_under = state_level[list_of_confounders + [\"treatment\", \"under19\"]]\n",
    "con_and_treat_and_under = con_and_treat_and_under.drop(\"stfips\", axis=1)\n",
    "\n",
    "\n",
    "# Outcome of interest, this can be set to: [\"pubonly\", \"insured\", \"privonly\"]\n",
    "y_var = state_level[\"insured\"]"
   ]
  },
  {
   "cell_type": "markdown",
   "metadata": {},
   "source": [
    "Fitting Model"
   ]
  },
  {
   "cell_type": "code",
   "execution_count": 19,
   "metadata": {},
   "outputs": [
    {
     "name": "stdout",
     "output_type": "stream",
     "text": [
      "0.8034965034965035\n"
     ]
    }
   ],
   "source": [
    "# This is probably where my model goes wrong, as we're likely overfitting. Keep stratified k-fold\n",
    "\n",
    "x_train, x_test, y_train, y_test = train_test_split(confounders_and_treat, y_var, test_size=0.2)\n",
    "\n",
    "Q = RandomForestClassifier(max_depth=5, n_estimators=100)\n",
    "Q.fit(x_train, y_train) # Didn't do splitting, can do later. \n",
    "print(Q.score(x_test, y_test))"
   ]
  },
  {
   "cell_type": "markdown",
   "metadata": {},
   "source": [
    "Estimating the ATT's\n"
   ]
  },
  {
   "cell_type": "code",
   "execution_count": 20,
   "metadata": {},
   "outputs": [],
   "source": [
    "mean_list = []  # Will end up being a list of the average ATT's\n",
    "CI_list = []  # Will end up being a list of the confidence intervals \n",
    "for i in range(1992, 2009):  # We compute the ATT for each year\n",
    "    top_year = i - 1996  # Normalizing for interpretability (t = 1 is when treatment occurs)\n",
    "\n",
    "    # This part is from the paper, it says we should use 1996 (t = 0) as the year to compare against for\n",
    "    # any year >= 1997\n",
    "\n",
    "    # For any year prior to treatment, it says we should compare that year (t = t') to the prior year (t = t' - 1)\n",
    "    if top_year >= 1:\n",
    "        base_year = 0  # This is \n",
    "    else:\n",
    "        base_year = top_year - 1\n",
    "\n",
    "    # Copying the matrix which contains: confounders (con), treatment (treat) and the indicator for under19 (under)\n",
    "    treat_1 = con_and_treat_and_under.copy()\n",
    "\n",
    "    # Subsetting to only look at the units which appear in t = 1 (1997)\n",
    "    treat_1 = treat_1[treat_1[\"year\"] == top_year]\n",
    "    treat_1 = treat_1[treat_1[\"under19\"] == 1]  # Only looking at treated units (i.e. <19)\n",
    "    treat_1 = treat_1.drop(\"under19\", axis=1)  # We no longer need this\n",
    "    treat_1[\"treatment\"] = 1  # This is because we may have \"treatment = 0\" if year < 1997, but we want to pretend it is \n",
    "                              # treated to estimate the ATT there. Essentially we're pretending that treatment did occur\n",
    "                              # then, and ideally we would see ATT ~ 0 there. \n",
    "\n",
    "    # The same matrix but we pretend they were untreated\n",
    "    no_treat_1 = treat_1.copy()\n",
    "    no_treat_1[\"treatment\"] = 0\n",
    "\n",
    "    # Now we repeat this, but we pretend those units appear in 1996 (t = 0)\n",
    "    # This is because we need to have a set of covariates to look at, and I think it makes a little more\n",
    "    # sense to look at the people who were actually treated, rather than those who \"would have been.\"\n",
    "    treat_0 = treat_1.copy()\n",
    "    no_treat_0 = no_treat_1.copy()\n",
    "\n",
    "    treat_0[\"year\"] = base_year\n",
    "    no_treat_0[\"year\"] = base_year\n",
    "\n",
    "    # Predicting our outcomes, and doing the normal DiD \n",
    "    term_1 = Q.predict_proba(treat_1)[:,1]\n",
    "    term_2 = Q.predict_proba(treat_0)[:,1]\n",
    "    term_3 = Q.predict_proba(no_treat_1)[:,1]\n",
    "    term_4 = Q.predict_proba(no_treat_0)[:,1]\n",
    "\n",
    "    final = term_1 - term_2 - (term_3 - term_4)\n",
    "    mean_list += [np.mean(final) * 100] \n",
    "    CI_list += [np.std(final) / np.sqrt(treat_1.shape[0]) * 100 * 1.96] # the \".shape\" part is just to get the right n"
   ]
  },
  {
   "cell_type": "code",
   "execution_count": 21,
   "metadata": {},
   "outputs": [
    {
     "data": {
      "image/png": "[encoded data removed]",
      "text/plain": [
       "<Figure size 640x480 with 1 Axes>"
      ]
     },
     "metadata": {},
     "output_type": "display_data"
    }
   ],
   "source": [
    "# Plotting\n",
    "\n",
    "x = np.arange(-7, 10, 1)\n",
    "\n",
    "plt.plot(x, mean_list)\n",
    "# Computing the actual CI's -- the thing before was just the radius. \n",
    "subtracted = [element1 - element2 for (element1, element2) in zip(mean_list, CI_list)]\n",
    "added = [element1 + element2 for (element1, element2) in zip(mean_list, CI_list)]\n",
    "\n",
    "# Adding in the CI's\n",
    "plt.fill_between(x, (subtracted), (added), color='blue', alpha=0.1)\n",
    "plt.show() "
   ]
  }
 ],
 "metadata": {
  "kernelspec": {
   "display_name": "Python 3.9.7 ('.venv': venv)",
   "language": "python",
   "name": "python3"
  },
  "language_info": {
   "codemirror_mode": {
    "name": "ipython",
    "version": 3
   },
   "file_extension": ".py",
   "mimetype": "text/x-python",
   "name": "python",
   "nbconvert_exporter": "python",
   "pygments_lexer": "ipython3",
   "version": "3.9.7"
  },
  "orig_nbformat": 4,
  "vscode": {
   "interpreter": {
    "hash": "e1117a3f67b6f9f07c9cd111c1d164c2c78fdaed6c7ec8e557fb0bc2f3980f47"
   }
  }
 },
 "nbformat": 4,
 "nbformat_minor": 2
}
